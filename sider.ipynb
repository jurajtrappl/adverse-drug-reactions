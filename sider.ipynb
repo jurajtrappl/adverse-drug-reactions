{
 "cells": [
  {
   "attachments": {},
   "cell_type": "markdown",
   "metadata": {},
   "source": [
    "# Classifiers of adverse drug reactions"
   ]
  },
  {
   "attachments": {},
   "cell_type": "markdown",
   "metadata": {},
   "source": [
    "\n",
    "The work is a semestral project for the course NAIL107 - Machine learning in Bioinformatics. The course is held at the Faculty of Mathematics and Physics of Charles University."
   ]
  },
  {
   "attachments": {},
   "cell_type": "markdown",
   "metadata": {},
   "source": [
    "## Overview"
   ]
  },
  {
   "attachments": {},
   "cell_type": "markdown",
   "metadata": {},
   "source": [
    "## Content\n",
    "\n",
    "- Dependencies\n",
    "- SIDER dataset\n",
    "    - Description\n",
    "    - Data exploration\n",
    "- Word embedding network\n",
    "    - Pub chem dataset\n",
    "    - Tokenization\n",
    "    - Autoencoder architecture\n",
    "        - Encoder model\n",
    "        - Decoder model\n",
    "        - Autoencoder model\n",
    "    - Pre-trained checkpoint\n",
    "    - Reconstruct the encoder\n",
    "- Classifiers\n",
    "    - Prepare training & validation & test data\n",
    "    - Multi-layer perceptron\n",
    "    - Convolutional neural network"
   ]
  },
  {
   "attachments": {},
   "cell_type": "markdown",
   "metadata": {},
   "source": [
    "## Dependencies"
   ]
  },
  {
   "cell_type": "code",
   "execution_count": 186,
   "metadata": {},
   "outputs": [],
   "source": [
    "import os\n",
    "os.environ.setdefault(\"TF_CPP_MIN_LOG_LEVEL\", \"2\")  # Report only TF errors by default\n",
    "\n",
    "import codecs\n",
    "import matplotlib.pyplot as plt\n",
    "import numpy as np\n",
    "import pandas as pd\n",
    "import rdkit as rdk\n",
    "from SmilesPE.tokenizer import SPE_Tokenizer\n",
    "import tensorflow as tf\n",
    "import warnings\n",
    "\n",
    "import sklearn\n",
    "from sklearn.ensemble import AdaBoostClassifier\n",
    "from sklearn.exceptions import ConvergenceWarning, DataConversionWarning, FitFailedWarning\n",
    "from sklearn.linear_model import LogisticRegression\n",
    "from sklearn.model_selection import GridSearchCV, train_test_split\n",
    "from sklearn.tree import DecisionTreeClassifier\n",
    "\n",
    "warnings.filterwarnings(action='ignore', category=ConvergenceWarning)\n",
    "warnings.filterwarnings(action='ignore', category=DataConversionWarning)\n",
    "warnings.filterwarnings(action='ignore', category=FitFailedWarning)\n",
    "warnings.filterwarnings(action='ignore', category=UserWarning)"
   ]
  },
  {
   "cell_type": "code",
   "execution_count": 2,
   "metadata": {},
   "outputs": [],
   "source": [
    "try:\n",
    "    # Disable all GPUS\n",
    "    tf.config.set_visible_devices([], 'GPU')\n",
    "    visible_devices = tf.config.get_visible_devices()\n",
    "    for device in visible_devices:\n",
    "        assert device.device_type != 'GPU'\n",
    "except:\n",
    "    # Invalid device or cannot modify virtual devices once initialized.\n",
    "    pass"
   ]
  },
  {
   "cell_type": "code",
   "execution_count": 3,
   "metadata": {},
   "outputs": [],
   "source": [
    "SEED, THREADS = 42, 1"
   ]
  },
  {
   "attachments": {},
   "cell_type": "markdown",
   "metadata": {},
   "source": [
    "## SIDER dataset"
   ]
  },
  {
   "attachments": {},
   "cell_type": "markdown",
   "metadata": {},
   "source": [
    "### Description"
   ]
  },
  {
   "attachments": {},
   "cell_type": "markdown",
   "metadata": {},
   "source": [
    "[SIDER](http://sideeffects.embl.de/) contains information on marketed medicines and their recorded adverse drug reactions. The information is extracted from public documents and package inserts. The available information include side effect frequency, drug and side effect classifications as well as links to further information, for example drug–target relations."
   ]
  },
  {
   "cell_type": "code",
   "execution_count": 4,
   "metadata": {},
   "outputs": [],
   "source": [
    "sider_df = pd.read_csv('./data/sider.csv')"
   ]
  },
  {
   "cell_type": "code",
   "execution_count": 5,
   "metadata": {},
   "outputs": [
    {
     "data": {
      "text/html": [
       "<div>\n",
       "<style scoped>\n",
       "    .dataframe tbody tr th:only-of-type {\n",
       "        vertical-align: middle;\n",
       "    }\n",
       "\n",
       "    .dataframe tbody tr th {\n",
       "        vertical-align: top;\n",
       "    }\n",
       "\n",
       "    .dataframe thead th {\n",
       "        text-align: right;\n",
       "    }\n",
       "</style>\n",
       "<table border=\"1\" class=\"dataframe\">\n",
       "  <thead>\n",
       "    <tr style=\"text-align: right;\">\n",
       "      <th></th>\n",
       "      <th>smiles</th>\n",
       "      <th>Hepatobiliary disorders</th>\n",
       "      <th>Metabolism and nutrition disorders</th>\n",
       "      <th>Product issues</th>\n",
       "      <th>Eye disorders</th>\n",
       "      <th>Investigations</th>\n",
       "      <th>Musculoskeletal and connective tissue disorders</th>\n",
       "      <th>Gastrointestinal disorders</th>\n",
       "      <th>Social circumstances</th>\n",
       "      <th>Immune system disorders</th>\n",
       "      <th>...</th>\n",
       "      <th>Congenital, familial and genetic disorders</th>\n",
       "      <th>Infections and infestations</th>\n",
       "      <th>Respiratory, thoracic and mediastinal disorders</th>\n",
       "      <th>Psychiatric disorders</th>\n",
       "      <th>Renal and urinary disorders</th>\n",
       "      <th>Pregnancy, puerperium and perinatal conditions</th>\n",
       "      <th>Ear and labyrinth disorders</th>\n",
       "      <th>Cardiac disorders</th>\n",
       "      <th>Nervous system disorders</th>\n",
       "      <th>Injury, poisoning and procedural complications</th>\n",
       "    </tr>\n",
       "  </thead>\n",
       "  <tbody>\n",
       "    <tr>\n",
       "      <th>0</th>\n",
       "      <td>C(CNCCNCCNCCN)N</td>\n",
       "      <td>1</td>\n",
       "      <td>1</td>\n",
       "      <td>0</td>\n",
       "      <td>0</td>\n",
       "      <td>1</td>\n",
       "      <td>1</td>\n",
       "      <td>1</td>\n",
       "      <td>0</td>\n",
       "      <td>0</td>\n",
       "      <td>...</td>\n",
       "      <td>0</td>\n",
       "      <td>0</td>\n",
       "      <td>1</td>\n",
       "      <td>1</td>\n",
       "      <td>0</td>\n",
       "      <td>0</td>\n",
       "      <td>1</td>\n",
       "      <td>1</td>\n",
       "      <td>1</td>\n",
       "      <td>0</td>\n",
       "    </tr>\n",
       "    <tr>\n",
       "      <th>1</th>\n",
       "      <td>CC(C)(C)C1=CC(=C(C=C1NC(=O)C2=CNC3=CC=CC=C3C2=...</td>\n",
       "      <td>0</td>\n",
       "      <td>1</td>\n",
       "      <td>0</td>\n",
       "      <td>0</td>\n",
       "      <td>1</td>\n",
       "      <td>1</td>\n",
       "      <td>1</td>\n",
       "      <td>0</td>\n",
       "      <td>0</td>\n",
       "      <td>...</td>\n",
       "      <td>0</td>\n",
       "      <td>1</td>\n",
       "      <td>1</td>\n",
       "      <td>0</td>\n",
       "      <td>0</td>\n",
       "      <td>0</td>\n",
       "      <td>1</td>\n",
       "      <td>0</td>\n",
       "      <td>1</td>\n",
       "      <td>0</td>\n",
       "    </tr>\n",
       "    <tr>\n",
       "      <th>2</th>\n",
       "      <td>CC[C@]12CC(=C)[C@H]3[C@H]([C@@H]1CC[C@]2(C#C)O...</td>\n",
       "      <td>0</td>\n",
       "      <td>1</td>\n",
       "      <td>0</td>\n",
       "      <td>1</td>\n",
       "      <td>1</td>\n",
       "      <td>0</td>\n",
       "      <td>1</td>\n",
       "      <td>0</td>\n",
       "      <td>1</td>\n",
       "      <td>...</td>\n",
       "      <td>0</td>\n",
       "      <td>0</td>\n",
       "      <td>0</td>\n",
       "      <td>1</td>\n",
       "      <td>0</td>\n",
       "      <td>0</td>\n",
       "      <td>0</td>\n",
       "      <td>0</td>\n",
       "      <td>1</td>\n",
       "      <td>0</td>\n",
       "    </tr>\n",
       "    <tr>\n",
       "      <th>3</th>\n",
       "      <td>CCC12CC(=C)C3C(C1CC[C@]2(C#C)O)CCC4=CC(=O)CCC34</td>\n",
       "      <td>1</td>\n",
       "      <td>1</td>\n",
       "      <td>0</td>\n",
       "      <td>1</td>\n",
       "      <td>1</td>\n",
       "      <td>1</td>\n",
       "      <td>1</td>\n",
       "      <td>0</td>\n",
       "      <td>1</td>\n",
       "      <td>...</td>\n",
       "      <td>1</td>\n",
       "      <td>1</td>\n",
       "      <td>1</td>\n",
       "      <td>1</td>\n",
       "      <td>1</td>\n",
       "      <td>1</td>\n",
       "      <td>0</td>\n",
       "      <td>0</td>\n",
       "      <td>1</td>\n",
       "      <td>1</td>\n",
       "    </tr>\n",
       "    <tr>\n",
       "      <th>4</th>\n",
       "      <td>C1C(C2=CC=CC=C2N(C3=CC=CC=C31)C(=O)N)O</td>\n",
       "      <td>1</td>\n",
       "      <td>1</td>\n",
       "      <td>0</td>\n",
       "      <td>1</td>\n",
       "      <td>1</td>\n",
       "      <td>1</td>\n",
       "      <td>1</td>\n",
       "      <td>0</td>\n",
       "      <td>1</td>\n",
       "      <td>...</td>\n",
       "      <td>0</td>\n",
       "      <td>1</td>\n",
       "      <td>1</td>\n",
       "      <td>1</td>\n",
       "      <td>0</td>\n",
       "      <td>0</td>\n",
       "      <td>1</td>\n",
       "      <td>0</td>\n",
       "      <td>1</td>\n",
       "      <td>0</td>\n",
       "    </tr>\n",
       "    <tr>\n",
       "      <th>...</th>\n",
       "      <td>...</td>\n",
       "      <td>...</td>\n",
       "      <td>...</td>\n",
       "      <td>...</td>\n",
       "      <td>...</td>\n",
       "      <td>...</td>\n",
       "      <td>...</td>\n",
       "      <td>...</td>\n",
       "      <td>...</td>\n",
       "      <td>...</td>\n",
       "      <td>...</td>\n",
       "      <td>...</td>\n",
       "      <td>...</td>\n",
       "      <td>...</td>\n",
       "      <td>...</td>\n",
       "      <td>...</td>\n",
       "      <td>...</td>\n",
       "      <td>...</td>\n",
       "      <td>...</td>\n",
       "      <td>...</td>\n",
       "      <td>...</td>\n",
       "    </tr>\n",
       "    <tr>\n",
       "      <th>1422</th>\n",
       "      <td>C[C@H]1CN(CC[C@@]1(C)C2=CC(=CC=C2)O)C[C@H](CC3...</td>\n",
       "      <td>0</td>\n",
       "      <td>1</td>\n",
       "      <td>0</td>\n",
       "      <td>0</td>\n",
       "      <td>0</td>\n",
       "      <td>1</td>\n",
       "      <td>1</td>\n",
       "      <td>0</td>\n",
       "      <td>0</td>\n",
       "      <td>...</td>\n",
       "      <td>0</td>\n",
       "      <td>0</td>\n",
       "      <td>0</td>\n",
       "      <td>0</td>\n",
       "      <td>1</td>\n",
       "      <td>0</td>\n",
       "      <td>0</td>\n",
       "      <td>0</td>\n",
       "      <td>0</td>\n",
       "      <td>0</td>\n",
       "    </tr>\n",
       "    <tr>\n",
       "      <th>1423</th>\n",
       "      <td>CC[C@@H]1[C@@]2([C@@H]([C@@H](C(=O)[C@@H](C[C@...</td>\n",
       "      <td>1</td>\n",
       "      <td>1</td>\n",
       "      <td>0</td>\n",
       "      <td>1</td>\n",
       "      <td>1</td>\n",
       "      <td>1</td>\n",
       "      <td>1</td>\n",
       "      <td>0</td>\n",
       "      <td>1</td>\n",
       "      <td>...</td>\n",
       "      <td>0</td>\n",
       "      <td>1</td>\n",
       "      <td>1</td>\n",
       "      <td>1</td>\n",
       "      <td>1</td>\n",
       "      <td>0</td>\n",
       "      <td>1</td>\n",
       "      <td>1</td>\n",
       "      <td>1</td>\n",
       "      <td>1</td>\n",
       "    </tr>\n",
       "    <tr>\n",
       "      <th>1424</th>\n",
       "      <td>CCOC1=CC=C(C=C1)CC2=C(C=CC(=C2)[C@H]3[C@@H]([C...</td>\n",
       "      <td>1</td>\n",
       "      <td>1</td>\n",
       "      <td>0</td>\n",
       "      <td>0</td>\n",
       "      <td>1</td>\n",
       "      <td>1</td>\n",
       "      <td>1</td>\n",
       "      <td>0</td>\n",
       "      <td>1</td>\n",
       "      <td>...</td>\n",
       "      <td>0</td>\n",
       "      <td>1</td>\n",
       "      <td>0</td>\n",
       "      <td>0</td>\n",
       "      <td>1</td>\n",
       "      <td>0</td>\n",
       "      <td>0</td>\n",
       "      <td>1</td>\n",
       "      <td>1</td>\n",
       "      <td>1</td>\n",
       "    </tr>\n",
       "    <tr>\n",
       "      <th>1425</th>\n",
       "      <td>C1CN(CCC1N2C3=CC=CC=C3NC2=O)CCCC(C4=CC=C(C=C4)...</td>\n",
       "      <td>0</td>\n",
       "      <td>1</td>\n",
       "      <td>0</td>\n",
       "      <td>1</td>\n",
       "      <td>1</td>\n",
       "      <td>1</td>\n",
       "      <td>1</td>\n",
       "      <td>0</td>\n",
       "      <td>0</td>\n",
       "      <td>...</td>\n",
       "      <td>0</td>\n",
       "      <td>0</td>\n",
       "      <td>0</td>\n",
       "      <td>1</td>\n",
       "      <td>1</td>\n",
       "      <td>0</td>\n",
       "      <td>0</td>\n",
       "      <td>1</td>\n",
       "      <td>1</td>\n",
       "      <td>1</td>\n",
       "    </tr>\n",
       "    <tr>\n",
       "      <th>1426</th>\n",
       "      <td>CCC(=O)C(CC(C)N(C)C)(C1=CC=CC=C1)C2=CC=CC=C2</td>\n",
       "      <td>1</td>\n",
       "      <td>1</td>\n",
       "      <td>0</td>\n",
       "      <td>1</td>\n",
       "      <td>1</td>\n",
       "      <td>1</td>\n",
       "      <td>1</td>\n",
       "      <td>0</td>\n",
       "      <td>1</td>\n",
       "      <td>...</td>\n",
       "      <td>0</td>\n",
       "      <td>1</td>\n",
       "      <td>1</td>\n",
       "      <td>1</td>\n",
       "      <td>1</td>\n",
       "      <td>0</td>\n",
       "      <td>1</td>\n",
       "      <td>1</td>\n",
       "      <td>1</td>\n",
       "      <td>1</td>\n",
       "    </tr>\n",
       "  </tbody>\n",
       "</table>\n",
       "<p>1427 rows × 28 columns</p>\n",
       "</div>"
      ],
      "text/plain": [
       "                                                 smiles   \n",
       "0                                       C(CNCCNCCNCCN)N  \\\n",
       "1     CC(C)(C)C1=CC(=C(C=C1NC(=O)C2=CNC3=CC=CC=C3C2=...   \n",
       "2     CC[C@]12CC(=C)[C@H]3[C@H]([C@@H]1CC[C@]2(C#C)O...   \n",
       "3       CCC12CC(=C)C3C(C1CC[C@]2(C#C)O)CCC4=CC(=O)CCC34   \n",
       "4                C1C(C2=CC=CC=C2N(C3=CC=CC=C31)C(=O)N)O   \n",
       "...                                                 ...   \n",
       "1422  C[C@H]1CN(CC[C@@]1(C)C2=CC(=CC=C2)O)C[C@H](CC3...   \n",
       "1423  CC[C@@H]1[C@@]2([C@@H]([C@@H](C(=O)[C@@H](C[C@...   \n",
       "1424  CCOC1=CC=C(C=C1)CC2=C(C=CC(=C2)[C@H]3[C@@H]([C...   \n",
       "1425  C1CN(CCC1N2C3=CC=CC=C3NC2=O)CCCC(C4=CC=C(C=C4)...   \n",
       "1426       CCC(=O)C(CC(C)N(C)C)(C1=CC=CC=C1)C2=CC=CC=C2   \n",
       "\n",
       "      Hepatobiliary disorders  Metabolism and nutrition disorders   \n",
       "0                           1                                   1  \\\n",
       "1                           0                                   1   \n",
       "2                           0                                   1   \n",
       "3                           1                                   1   \n",
       "4                           1                                   1   \n",
       "...                       ...                                 ...   \n",
       "1422                        0                                   1   \n",
       "1423                        1                                   1   \n",
       "1424                        1                                   1   \n",
       "1425                        0                                   1   \n",
       "1426                        1                                   1   \n",
       "\n",
       "      Product issues  Eye disorders  Investigations   \n",
       "0                  0              0               1  \\\n",
       "1                  0              0               1   \n",
       "2                  0              1               1   \n",
       "3                  0              1               1   \n",
       "4                  0              1               1   \n",
       "...              ...            ...             ...   \n",
       "1422               0              0               0   \n",
       "1423               0              1               1   \n",
       "1424               0              0               1   \n",
       "1425               0              1               1   \n",
       "1426               0              1               1   \n",
       "\n",
       "      Musculoskeletal and connective tissue disorders   \n",
       "0                                                   1  \\\n",
       "1                                                   1   \n",
       "2                                                   0   \n",
       "3                                                   1   \n",
       "4                                                   1   \n",
       "...                                               ...   \n",
       "1422                                                1   \n",
       "1423                                                1   \n",
       "1424                                                1   \n",
       "1425                                                1   \n",
       "1426                                                1   \n",
       "\n",
       "      Gastrointestinal disorders  Social circumstances   \n",
       "0                              1                     0  \\\n",
       "1                              1                     0   \n",
       "2                              1                     0   \n",
       "3                              1                     0   \n",
       "4                              1                     0   \n",
       "...                          ...                   ...   \n",
       "1422                           1                     0   \n",
       "1423                           1                     0   \n",
       "1424                           1                     0   \n",
       "1425                           1                     0   \n",
       "1426                           1                     0   \n",
       "\n",
       "      Immune system disorders  ...   \n",
       "0                           0  ...  \\\n",
       "1                           0  ...   \n",
       "2                           1  ...   \n",
       "3                           1  ...   \n",
       "4                           1  ...   \n",
       "...                       ...  ...   \n",
       "1422                        0  ...   \n",
       "1423                        1  ...   \n",
       "1424                        1  ...   \n",
       "1425                        0  ...   \n",
       "1426                        1  ...   \n",
       "\n",
       "      Congenital, familial and genetic disorders  Infections and infestations   \n",
       "0                                              0                            0  \\\n",
       "1                                              0                            1   \n",
       "2                                              0                            0   \n",
       "3                                              1                            1   \n",
       "4                                              0                            1   \n",
       "...                                          ...                          ...   \n",
       "1422                                           0                            0   \n",
       "1423                                           0                            1   \n",
       "1424                                           0                            1   \n",
       "1425                                           0                            0   \n",
       "1426                                           0                            1   \n",
       "\n",
       "      Respiratory, thoracic and mediastinal disorders  Psychiatric disorders   \n",
       "0                                                   1                      1  \\\n",
       "1                                                   1                      0   \n",
       "2                                                   0                      1   \n",
       "3                                                   1                      1   \n",
       "4                                                   1                      1   \n",
       "...                                               ...                    ...   \n",
       "1422                                                0                      0   \n",
       "1423                                                1                      1   \n",
       "1424                                                0                      0   \n",
       "1425                                                0                      1   \n",
       "1426                                                1                      1   \n",
       "\n",
       "      Renal and urinary disorders   \n",
       "0                               0  \\\n",
       "1                               0   \n",
       "2                               0   \n",
       "3                               1   \n",
       "4                               0   \n",
       "...                           ...   \n",
       "1422                            1   \n",
       "1423                            1   \n",
       "1424                            1   \n",
       "1425                            1   \n",
       "1426                            1   \n",
       "\n",
       "      Pregnancy, puerperium and perinatal conditions   \n",
       "0                                                  0  \\\n",
       "1                                                  0   \n",
       "2                                                  0   \n",
       "3                                                  1   \n",
       "4                                                  0   \n",
       "...                                              ...   \n",
       "1422                                               0   \n",
       "1423                                               0   \n",
       "1424                                               0   \n",
       "1425                                               0   \n",
       "1426                                               0   \n",
       "\n",
       "      Ear and labyrinth disorders  Cardiac disorders   \n",
       "0                               1                  1  \\\n",
       "1                               1                  0   \n",
       "2                               0                  0   \n",
       "3                               0                  0   \n",
       "4                               1                  0   \n",
       "...                           ...                ...   \n",
       "1422                            0                  0   \n",
       "1423                            1                  1   \n",
       "1424                            0                  1   \n",
       "1425                            0                  1   \n",
       "1426                            1                  1   \n",
       "\n",
       "      Nervous system disorders  Injury, poisoning and procedural complications  \n",
       "0                            1                                               0  \n",
       "1                            1                                               0  \n",
       "2                            1                                               0  \n",
       "3                            1                                               1  \n",
       "4                            1                                               0  \n",
       "...                        ...                                             ...  \n",
       "1422                         0                                               0  \n",
       "1423                         1                                               1  \n",
       "1424                         1                                               1  \n",
       "1425                         1                                               1  \n",
       "1426                         1                                               1  \n",
       "\n",
       "[1427 rows x 28 columns]"
      ]
     },
     "execution_count": 5,
     "metadata": {},
     "output_type": "execute_result"
    }
   ],
   "source": [
    "sider_df"
   ]
  },
  {
   "attachments": {},
   "cell_type": "markdown",
   "metadata": {},
   "source": [
    "### Data exploration"
   ]
  },
  {
   "attachments": {},
   "cell_type": "markdown",
   "metadata": {},
   "source": [
    "Visualization of the SMILES length distribution:"
   ]
  },
  {
   "cell_type": "code",
   "execution_count": 6,
   "metadata": {},
   "outputs": [
    {
     "data": {
      "image/png": "[encoded data removed]",
      "text/plain": [
       "<Figure size 640x480 with 1 Axes>"
      ]
     },
     "metadata": {},
     "output_type": "display_data"
    }
   ],
   "source": [
    "sider_smiles_lengths = sider_df['smiles'].apply(lambda smiles: len(smiles))\n",
    "sider_smiles_lengths\n",
    "\n",
    "n_bins = 7  # per 200-lengths\n",
    "counts, edges, bars = plt.hist(sider_smiles_lengths, n_bins, rwidth=0.95)\n",
    "\n",
    "plt.bar_label(bars)\n",
    "plt.xlabel('Lengths of SMILES')\n",
    "plt.ylabel('Counts')\n",
    "plt.show()"
   ]
  },
  {
   "attachments": {},
   "cell_type": "markdown",
   "metadata": {},
   "source": [
    "Draw a molecule of a random SMILES from our dataset:"
   ]
  },
  {
   "cell_type": "code",
   "execution_count": 12,
   "metadata": {},
   "outputs": [
    {
     "data": {
      "image/png": "[encoded data removed]",
      "text/plain": [
       "<rdkit.Chem.rdchem.Mol at 0x7f60c4313ae0>"
      ]
     },
     "execution_count": 12,
     "metadata": {},
     "output_type": "execute_result"
    }
   ],
   "source": [
    "def draw_smile(smile):\n",
    "    smile_mol = rdk.Chem.MolFromSmiles(smile)\n",
    "    \n",
    "    return smile_mol\n",
    "\n",
    "def draw_random_smile():\n",
    "    random_drug = sider_df.sample()\n",
    "    random_drugs_smile = random_drug['smiles'].values[0]\n",
    "    \n",
    "    return draw_smile(random_drugs_smile)\n",
    "\n",
    "draw_random_smile()"
   ]
  },
  {
   "attachments": {},
   "cell_type": "markdown",
   "metadata": {},
   "source": [
    "## Word embedding network"
   ]
  },
  {
   "attachments": {},
   "cell_type": "markdown",
   "metadata": {},
   "source": [
    "### Pub chem dataset"
   ]
  },
  {
   "attachments": {},
   "cell_type": "markdown",
   "metadata": {},
   "source": [
    "Load training SMILES: (pub_chem dataset, 442k)"
   ]
  },
  {
   "cell_type": "code",
   "execution_count": 13,
   "metadata": {},
   "outputs": [],
   "source": [
    "pubchem_smiles_df = pd.read_csv('./data/smiles_embedding.csv')"
   ]
  },
  {
   "cell_type": "code",
   "execution_count": 14,
   "metadata": {},
   "outputs": [
    {
     "name": "stdout",
     "output_type": "stream",
     "text": [
      "<class 'pandas.core.frame.DataFrame'>\n",
      "RangeIndex: 444124 entries, 0 to 444123\n",
      "Data columns (total 2 columns):\n",
      " #   Column     Non-Null Count   Dtype \n",
      "---  ------     --------------   ----- \n",
      " 0   CID        444124 non-null  int64 \n",
      " 1   ISO_SMILE  444124 non-null  object\n",
      "dtypes: int64(1), object(1)\n",
      "memory usage: 6.8+ MB\n"
     ]
    }
   ],
   "source": [
    "pubchem_smiles_df.info()"
   ]
  },
  {
   "cell_type": "code",
   "execution_count": 15,
   "metadata": {},
   "outputs": [],
   "source": [
    "pubchem_smiles = pubchem_smiles_df['ISO_SMILE']\n",
    "\n",
    "X_we_network = pubchem_smiles.sample(n=len(pubchem_smiles_df), random_state=SEED)"
   ]
  },
  {
   "attachments": {},
   "cell_type": "markdown",
   "metadata": {},
   "source": [
    "### Tokenization"
   ]
  },
  {
   "attachments": {},
   "cell_type": "markdown",
   "metadata": {},
   "source": [
    "Consists of two steps:\n",
    "- tokenize SMILES using pre-trained substructure tokenizer based on [byte-pair-encoding (BPE)](https://aclanthology.org/P16-1162/)\n",
    "    - https://pypi.org/project/SmilesPE/\n",
    "- tokenize previously tokenized substructures based on their frequency using Tensorflow's Tokenizer"
   ]
  },
  {
   "attachments": {},
   "cell_type": "markdown",
   "metadata": {},
   "source": [
    "\n",
    "Load the pre-trained substructure tokenizer:"
   ]
  },
  {
   "cell_type": "code",
   "execution_count": 16,
   "metadata": {},
   "outputs": [],
   "source": [
    "spe_vob = codecs.open('./models/SPE_ChEMBL.txt')\n",
    "spe = SPE_Tokenizer(spe_vob)"
   ]
  },
  {
   "attachments": {},
   "cell_type": "markdown",
   "metadata": {},
   "source": [
    "Tokenize SMILES using pre-trained byte pair encoding model to substructure SMILES:"
   ]
  },
  {
   "cell_type": "code",
   "execution_count": 17,
   "metadata": {},
   "outputs": [],
   "source": [
    "X_we_network_bpe_tokenized = [spe.tokenize(smile).split() for smile in X_we_network]"
   ]
  },
  {
   "attachments": {},
   "cell_type": "markdown",
   "metadata": {},
   "source": [
    "An example of a BPE tokenized SMILES:"
   ]
  },
  {
   "cell_type": "code",
   "execution_count": 19,
   "metadata": {},
   "outputs": [
    {
     "data": {
      "text/plain": [
       "['CC1',\n",
       " '=C2',\n",
       " 'C=',\n",
       " 'CC3',\n",
       " '=C(',\n",
       " 'C2=C(',\n",
       " 'C4',\n",
       " '=C1',\n",
       " 'C(C(',\n",
       " 'C=C',\n",
       " '4)',\n",
       " 'O)',\n",
       " 'O)',\n",
       " 'C)',\n",
       " 'C=CC(',\n",
       " '=C',\n",
       " '3)',\n",
       " 'F']"
      ]
     },
     "execution_count": 19,
     "metadata": {},
     "output_type": "execute_result"
    }
   ],
   "source": [
    "X_we_network_bpe_tokenized[2]"
   ]
  },
  {
   "attachments": {},
   "cell_type": "markdown",
   "metadata": {},
   "source": [
    "Fit the second tokenizer on BPE tokenized SMILES:"
   ]
  },
  {
   "cell_type": "code",
   "execution_count": 20,
   "metadata": {},
   "outputs": [],
   "source": [
    "frequency_tokenizer = tf.keras.preprocessing.text.Tokenizer()\n",
    "frequency_tokenizer.fit_on_texts(X_we_network_bpe_tokenized)"
   ]
  },
  {
   "attachments": {},
   "cell_type": "markdown",
   "metadata": {},
   "source": [
    "Let's look at the vocabulary:"
   ]
  },
  {
   "cell_type": "code",
   "execution_count": null,
   "metadata": {},
   "outputs": [],
   "source": [
    "frequency_tokenizer_vocabulary = frequency_tokenizer.word_index\n",
    "\n",
    "frequency_tokenizer_vocabulary"
   ]
  },
  {
   "attachments": {},
   "cell_type": "markdown",
   "metadata": {},
   "source": [
    "how many unique substructures were found?"
   ]
  },
  {
   "cell_type": "code",
   "execution_count": 22,
   "metadata": {},
   "outputs": [
    {
     "data": {
      "text/plain": [
       "2047"
      ]
     },
     "execution_count": 22,
     "metadata": {},
     "output_type": "execute_result"
    }
   ],
   "source": [
    "frequency_tokenizer_vocabulary_size = len(frequency_tokenizer_vocabulary)\n",
    "\n",
    "frequency_tokenizer_vocabulary_size"
   ]
  },
  {
   "attachments": {},
   "cell_type": "markdown",
   "metadata": {},
   "source": [
    "what are e.g. the five most frequent substructures?"
   ]
  },
  {
   "cell_type": "code",
   "execution_count": 23,
   "metadata": {},
   "outputs": [
    {
     "data": {
      "text/plain": [
       "['cc', 'cc=', '=c(', '=', 'c1)']"
      ]
     },
     "execution_count": 23,
     "metadata": {},
     "output_type": "execute_result"
    }
   ],
   "source": [
    "list(map(lambda vocab_item: vocab_item[0], list(frequency_tokenizer_vocabulary.items())[:5]))"
   ]
  },
  {
   "attachments": {},
   "cell_type": "markdown",
   "metadata": {},
   "source": [
    "Create tokenized sequences:"
   ]
  },
  {
   "cell_type": "code",
   "execution_count": 24,
   "metadata": {},
   "outputs": [],
   "source": [
    "X_we_network_tokenized = frequency_tokenizer.texts_to_sequences(X_we_network_bpe_tokenized)"
   ]
  },
  {
   "attachments": {},
   "cell_type": "markdown",
   "metadata": {},
   "source": [
    "An example of such tokenized sequence:"
   ]
  },
  {
   "cell_type": "code",
   "execution_count": 25,
   "metadata": {},
   "outputs": [
    {
     "data": {
      "text/plain": [
       "[48, 19, 8, 41, 3, 50, 27, 31, 65, 12, 39, 11, 11, 36, 56, 9, 21, 118]"
      ]
     },
     "execution_count": 25,
     "metadata": {},
     "output_type": "execute_result"
    }
   ],
   "source": [
    "X_we_network_tokenized[2]"
   ]
  },
  {
   "attachments": {},
   "cell_type": "markdown",
   "metadata": {},
   "source": [
    "Word embedding network does not require an input of uniform length, but this workaround simplifies the process. Since our molecules have variable lengths, in the terms of count of their unique substructures, we need a way how turn them into sequences of uniform length. Typical way how to do it is to use a padding, specifically we will add 0's to the end of each sequence."
   ]
  },
  {
   "cell_type": "code",
   "execution_count": 44,
   "metadata": {},
   "outputs": [],
   "source": [
    "pubchem_max_bpe_tokenized_seq_size = max(len(seq) for seq in X_we_network_tokenized)\n",
    "\n",
    "X_we_network_padded_tokenized = tf.keras.preprocessing.sequence.pad_sequences(X_we_network_tokenized, maxlen=pubchem_max_bpe_tokenized_seq_size, padding='post')"
   ]
  },
  {
   "attachments": {},
   "cell_type": "markdown",
   "metadata": {},
   "source": [
    "And an example of such input:"
   ]
  },
  {
   "cell_type": "code",
   "execution_count": 28,
   "metadata": {},
   "outputs": [
    {
     "data": {
      "text/plain": [
       "array([ 48,  19,   8,  41,   3,  50,  27,  31,  65,  12,  39,  11,  11,\n",
       "        36,  56,   9,  21, 118,   0,   0,   0,   0,   0,   0,   0,   0,\n",
       "         0,   0,   0,   0,   0,   0,   0,   0,   0,   0,   0,   0,   0,\n",
       "         0,   0,   0,   0,   0,   0,   0,   0,   0,   0,   0,   0,   0,\n",
       "         0,   0,   0,   0,   0,   0,   0,   0,   0,   0,   0,   0,   0,\n",
       "         0,   0,   0,   0,   0,   0,   0,   0,   0,   0,   0,   0,   0,\n",
       "         0,   0,   0,   0,   0,   0,   0,   0,   0,   0,   0,   0,   0,\n",
       "         0,   0,   0,   0,   0,   0,   0,   0,   0,   0,   0,   0,   0,\n",
       "         0,   0,   0,   0,   0,   0,   0,   0,   0,   0,   0,   0,   0,\n",
       "         0,   0,   0,   0,   0,   0,   0,   0,   0,   0,   0,   0,   0,\n",
       "         0,   0,   0,   0,   0,   0,   0,   0,   0,   0,   0,   0,   0,\n",
       "         0,   0,   0,   0,   0,   0,   0,   0,   0,   0,   0,   0,   0,\n",
       "         0,   0,   0,   0,   0,   0,   0,   0,   0,   0,   0,   0,   0,\n",
       "         0,   0,   0,   0,   0,   0,   0,   0,   0,   0,   0,   0,   0,\n",
       "         0,   0,   0,   0,   0,   0,   0,   0,   0,   0,   0,   0,   0,\n",
       "         0,   0,   0,   0,   0,   0,   0,   0,   0,   0,   0,   0,   0,\n",
       "         0,   0,   0,   0,   0,   0,   0,   0,   0,   0,   0,   0,   0,\n",
       "         0,   0,   0,   0,   0,   0,   0,   0,   0,   0,   0,   0,   0,\n",
       "         0,   0,   0,   0,   0,   0,   0,   0,   0,   0,   0,   0,   0,\n",
       "         0,   0,   0,   0,   0,   0,   0,   0,   0,   0,   0,   0,   0,\n",
       "         0,   0,   0,   0,   0,   0,   0,   0,   0,   0,   0,   0,   0,\n",
       "         0,   0,   0,   0,   0,   0,   0,   0,   0,   0,   0,   0,   0,\n",
       "         0,   0,   0,   0,   0,   0,   0,   0,   0,   0,   0,   0,   0,\n",
       "         0,   0,   0,   0,   0,   0,   0,   0,   0,   0,   0,   0,   0,\n",
       "         0,   0,   0,   0,   0,   0,   0,   0,   0,   0,   0,   0,   0,\n",
       "         0,   0,   0,   0,   0,   0,   0,   0,   0,   0,   0,   0,   0,\n",
       "         0,   0,   0,   0,   0,   0,   0,   0,   0,   0,   0,   0,   0,\n",
       "         0,   0,   0,   0,   0,   0,   0], dtype=int32)"
      ]
     },
     "execution_count": 28,
     "metadata": {},
     "output_type": "execute_result"
    }
   ],
   "source": [
    "X_we_network_padded_tokenized[2]"
   ]
  },
  {
   "attachments": {},
   "cell_type": "markdown",
   "metadata": {},
   "source": [
    "### Autoencoder architecture"
   ]
  },
  {
   "cell_type": "code",
   "execution_count": 29,
   "metadata": {},
   "outputs": [],
   "source": [
    "EMBEDDING_SIZE = 50"
   ]
  },
  {
   "attachments": {},
   "cell_type": "markdown",
   "metadata": {},
   "source": [
    "#### Encoder model"
   ]
  },
  {
   "attachments": {},
   "cell_type": "markdown",
   "metadata": {},
   "source": [
    "This model generates a word embedding from preprocessed SMILES:"
   ]
  },
  {
   "cell_type": "code",
   "execution_count": 45,
   "metadata": {},
   "outputs": [],
   "source": [
    "# Define the shape of the input.\n",
    "we_encoder_input = tf.keras.layers.Input(shape=(pubchem_max_bpe_tokenized_seq_size,), name='encoder_input')\n",
    "\n",
    "# Apply L2 regularization that penalized big weights.\n",
    "l2 = tf.keras.regularizers.L2(l2=0.01)\n",
    "\n",
    "# Produces candidates for a word embedding.\n",
    "we_encoder_embedding = tf.keras.layers.Embedding(\n",
    "    input_dim=frequency_tokenizer_vocabulary_size + 1,\n",
    "    output_dim=EMBEDDING_SIZE,\n",
    "    input_length=pubchem_max_bpe_tokenized_seq_size,\n",
    "    mask_zero=True,\n",
    "    name='encoder_embedding'\n",
    ")(we_encoder_input)\n",
    "\n",
    "# Models temporal dependencies between the tokens in the input sequence.\n",
    "we_rnn_cell = tf.keras.layers.LSTM(256, return_sequences=True, kernel_regularizer=l2)\n",
    "we_encoder_rnn = tf.keras.layers.Bidirectional(we_rnn_cell, merge_mode='ave', name='encoder_rnn')(we_encoder_embedding)\n",
    "\n",
    "# Average candidates.\n",
    "we_encoder_avg_pool = tf.keras.layers.GlobalAveragePooling1D(name='encoder_avg_pool')(we_encoder_rnn)\n",
    "\n",
    "# Process created word embedding.\n",
    "we_encoder_dense = tf.keras.layers.Dense(256, activation=tf.nn.relu, kernel_regularizer=l2, name='encoder_fc_dense_1')(we_encoder_avg_pool)\n",
    "we_encoder_dense_1 = tf.keras.layers.Dense(256 , activation=tf.nn.relu, kernel_regularizer=l2, name='encoder_fc_dense_2')(we_encoder_dense)\n",
    "\n",
    "# Finally, the output of the model.\n",
    "we_encoder_output = tf.keras.layers.Dense(EMBEDDING_SIZE , activation=tf.nn.relu, kernel_regularizer=l2, name='encoder_output')(we_encoder_dense_1)\n",
    "\n",
    "we_encoder_model = tf.keras.Model(inputs=we_encoder_input, outputs=we_encoder_output, name='we_encoder')"
   ]
  },
  {
   "cell_type": "code",
   "execution_count": 32,
   "metadata": {},
   "outputs": [
    {
     "name": "stdout",
     "output_type": "stream",
     "text": [
      "Model: \"we_encoder\"\n",
      "_________________________________________________________________\n",
      " Layer (type)                Output Shape              Param #   \n",
      "=================================================================\n",
      " encoder_input (InputLayer)  [(None, 358)]             0         \n",
      "                                                                 \n",
      " encoder_embedding (Embeddin  (None, 358, 50)          102400    \n",
      " g)                                                              \n",
      "                                                                 \n",
      " encoder_rnn (Bidirectional)  (None, 358, 256)         628736    \n",
      "                                                                 \n",
      " encoder_avg_pool (GlobalAve  (None, 256)              0         \n",
      " ragePooling1D)                                                  \n",
      "                                                                 \n",
      " encoder_fc_dense_1 (Dense)  (None, 256)               65792     \n",
      "                                                                 \n",
      " encoder_fc_dense_2 (Dense)  (None, 256)               65792     \n",
      "                                                                 \n",
      " encoder_output (Dense)      (None, 50)                12850     \n",
      "                                                                 \n",
      "=================================================================\n",
      "Total params: 875,570\n",
      "Trainable params: 875,570\n",
      "Non-trainable params: 0\n",
      "_________________________________________________________________\n"
     ]
    }
   ],
   "source": [
    "we_encoder_model.summary()"
   ]
  },
  {
   "attachments": {},
   "cell_type": "markdown",
   "metadata": {},
   "source": [
    "#### Decoder model"
   ]
  },
  {
   "attachments": {},
   "cell_type": "markdown",
   "metadata": {},
   "source": [
    "Takes the word embedding created by the encoder model and tries to reconstruct back the initial SMILES."
   ]
  },
  {
   "cell_type": "code",
   "execution_count": 46,
   "metadata": {},
   "outputs": [],
   "source": [
    "# Define the shape of the input which is the output of the encoder model.\n",
    "we_decoder_input = tf.keras.layers.Input(shape=(EMBEDDING_SIZE,), name='decoder_input')\n",
    "\n",
    "we_decoder_dense = tf.keras.layers.Dense(units=EMBEDDING_SIZE, activation=tf.nn.relu, kernel_regularizer=l2, name='decoder_fc_dense_1')(we_decoder_input)\n",
    "we_decoder_dense_1 = tf.keras.layers.Dense(units=256, activation=tf.nn.relu, kernel_regularizer=l2, name='decoder_fc_dense_2')(we_decoder_dense)\n",
    "we_decoder_dense_2 = tf.keras.layers.Dense(units=256, activation=tf.nn.relu, kernel_regularizer=l2, name='decoder_fc_dense_3')(we_decoder_dense_1)\n",
    "\n",
    "we_decoder_output = tf.keras.layers.Dense(units=pubchem_max_bpe_tokenized_seq_size, kernel_regularizer=l2, name='decoder_output')(we_decoder_dense_2)\n",
    "\n",
    "we_decoder_model = tf.keras.Model(inputs=we_decoder_input, outputs=we_decoder_output, name='we_decoder')"
   ]
  },
  {
   "cell_type": "code",
   "execution_count": 35,
   "metadata": {},
   "outputs": [
    {
     "name": "stdout",
     "output_type": "stream",
     "text": [
      "Model: \"we_decoder\"\n",
      "_________________________________________________________________\n",
      " Layer (type)                Output Shape              Param #   \n",
      "=================================================================\n",
      " decoder_input (InputLayer)  [(None, 50)]              0         \n",
      "                                                                 \n",
      " decoder_fc_dense_1 (Dense)  (None, 50)                2550      \n",
      "                                                                 \n",
      " decoder_fc_dense_2 (Dense)  (None, 256)               13056     \n",
      "                                                                 \n",
      " decoder_fc_dense_3 (Dense)  (None, 256)               65792     \n",
      "                                                                 \n",
      " decoder_output (Dense)      (None, 358)               92006     \n",
      "                                                                 \n",
      "=================================================================\n",
      "Total params: 173,404\n",
      "Trainable params: 173,404\n",
      "Non-trainable params: 0\n",
      "_________________________________________________________________\n"
     ]
    }
   ],
   "source": [
    "we_decoder_model.summary()"
   ]
  },
  {
   "attachments": {},
   "cell_type": "markdown",
   "metadata": {},
   "source": [
    "#### Autoencoder model"
   ]
  },
  {
   "attachments": {},
   "cell_type": "markdown",
   "metadata": {},
   "source": [
    "Glue together both models into one network that learns to capture semantics of SMILES and return word embeddings for them:"
   ]
  },
  {
   "cell_type": "code",
   "execution_count": 47,
   "metadata": {},
   "outputs": [],
   "source": [
    "we_network_input = we_encoder_input\n",
    "we_network_output = we_decoder_model(we_encoder_output)\n",
    "\n",
    "we_network_model = tf.keras.Model(inputs=we_network_input, outputs=we_network_output, name='we_network')\n",
    "\n",
    "we_network_model.compile(\n",
    "    optimizer=tf.keras.optimizers.Adam(learning_rate=0.001),\n",
    "    loss=tf.keras.losses.MeanSquaredError(name=\"loss\"),\n",
    ")"
   ]
  },
  {
   "cell_type": "code",
   "execution_count": 37,
   "metadata": {},
   "outputs": [
    {
     "name": "stdout",
     "output_type": "stream",
     "text": [
      "Model: \"we_network\"\n",
      "_________________________________________________________________\n",
      " Layer (type)                Output Shape              Param #   \n",
      "=================================================================\n",
      " encoder_input (InputLayer)  [(None, 358)]             0         \n",
      "                                                                 \n",
      " encoder_embedding (Embeddin  (None, 358, 50)          102400    \n",
      " g)                                                              \n",
      "                                                                 \n",
      " encoder_rnn (Bidirectional)  (None, 358, 256)         628736    \n",
      "                                                                 \n",
      " encoder_avg_pool (GlobalAve  (None, 256)              0         \n",
      " ragePooling1D)                                                  \n",
      "                                                                 \n",
      " encoder_fc_dense_1 (Dense)  (None, 256)               65792     \n",
      "                                                                 \n",
      " encoder_fc_dense_2 (Dense)  (None, 256)               65792     \n",
      "                                                                 \n",
      " encoder_output (Dense)      (None, 50)                12850     \n",
      "                                                                 \n",
      " we_decoder (Functional)     (None, 358)               173404    \n",
      "                                                                 \n",
      "=================================================================\n",
      "Total params: 1,048,974\n",
      "Trainable params: 1,048,974\n",
      "Non-trainable params: 0\n",
      "_________________________________________________________________\n"
     ]
    }
   ],
   "source": [
    "we_network_model.summary()"
   ]
  },
  {
   "attachments": {},
   "cell_type": "markdown",
   "metadata": {},
   "source": [
    "#### Pre-trained checkpoint"
   ]
  },
  {
   "attachments": {},
   "cell_type": "markdown",
   "metadata": {},
   "source": [
    "The training is a task for longer time. We trained the model on [metacentrum](https://metavo.metacentrum.cz/) and now we just load the pre-trained checkpoint:"
   ]
  },
  {
   "cell_type": "code",
   "execution_count": 49,
   "metadata": {},
   "outputs": [],
   "source": [
    "we_network_model.load_weights('./models/we_network_50embdim_50epoch_bigger_everything_30.h5')"
   ]
  },
  {
   "attachments": {},
   "cell_type": "markdown",
   "metadata": {},
   "source": [
    "#### Reconstruct the encoder"
   ]
  },
  {
   "attachments": {},
   "cell_type": "markdown",
   "metadata": {},
   "source": [
    "In order to make word embeddings, we need only the encoder part of the autoencoder model."
   ]
  },
  {
   "cell_type": "code",
   "execution_count": 50,
   "metadata": {},
   "outputs": [],
   "source": [
    "we_network_encoder_input = we_network_model.get_layer('encoder_input').input\n",
    "we_network_encoder_output = we_network_model.get_layer('encoder_output').output\n",
    "\n",
    "we_network_encoder = tf.keras.Model(inputs=we_network_encoder_input, outputs=we_network_encoder_output, name='encoder_checkpoint')"
   ]
  },
  {
   "cell_type": "code",
   "execution_count": 40,
   "metadata": {},
   "outputs": [
    {
     "name": "stdout",
     "output_type": "stream",
     "text": [
      "Model: \"encoder_checkpoint\"\n",
      "_________________________________________________________________\n",
      " Layer (type)                Output Shape              Param #   \n",
      "=================================================================\n",
      " encoder_input (InputLayer)  [(None, 358)]             0         \n",
      "                                                                 \n",
      " encoder_embedding (Embeddin  (None, 358, 50)          102400    \n",
      " g)                                                              \n",
      "                                                                 \n",
      " encoder_rnn (Bidirectional)  (None, 358, 256)         628736    \n",
      "                                                                 \n",
      " encoder_avg_pool (GlobalAve  (None, 256)              0         \n",
      " ragePooling1D)                                                  \n",
      "                                                                 \n",
      " encoder_fc_dense_1 (Dense)  (None, 256)               65792     \n",
      "                                                                 \n",
      " encoder_fc_dense_2 (Dense)  (None, 256)               65792     \n",
      "                                                                 \n",
      " encoder_output (Dense)      (None, 50)                12850     \n",
      "                                                                 \n",
      "=================================================================\n",
      "Total params: 875,570\n",
      "Trainable params: 875,570\n",
      "Non-trainable params: 0\n",
      "_________________________________________________________________\n"
     ]
    }
   ],
   "source": [
    "we_network_encoder.summary()"
   ]
  },
  {
   "attachments": {},
   "cell_type": "markdown",
   "metadata": {},
   "source": [
    "## Classificators"
   ]
  },
  {
   "attachments": {},
   "cell_type": "markdown",
   "metadata": {},
   "source": [
    "### Prepare training & validation & test data"
   ]
  },
  {
   "attachments": {},
   "cell_type": "markdown",
   "metadata": {},
   "source": [
    "Perform the same preprocessing steps as before training the word embedding network, because the inputs must be in the same form. We padded the sequences to uniform length of 358 which is the maximum count of unique substructures per one molecule in the pubchem data. Firstly we need to check what is the maximum count of unique substructures in the SIDER dataset. In order to do that, lets tokenize SMILES:"
   ]
  },
  {
   "cell_type": "code",
   "execution_count": 43,
   "metadata": {},
   "outputs": [],
   "source": [
    "sider_bpe_tokenized = [spe.tokenize(smile).split() for smile in sider_df['smiles']]"
   ]
  },
  {
   "attachments": {},
   "cell_type": "markdown",
   "metadata": {},
   "source": [
    "the maximum count of unique substructures in the SIDER dataset is:"
   ]
  },
  {
   "cell_type": "code",
   "execution_count": 52,
   "metadata": {},
   "outputs": [
    {
     "data": {
      "text/plain": [
       "343"
      ]
     },
     "execution_count": 52,
     "metadata": {},
     "output_type": "execute_result"
    }
   ],
   "source": [
    "sider_max_bpe_tokenized_seq_size = max(len(seq) for seq in sider_bpe_tokenized)\n",
    "\n",
    "sider_max_bpe_tokenized_seq_size"
   ]
  },
  {
   "attachments": {},
   "cell_type": "markdown",
   "metadata": {},
   "source": [
    "which is less than the number for pubchem data. This means that we are okay using the number from pubchem data. Now finish the preprocessing of SIDER SMILES:"
   ]
  },
  {
   "cell_type": "code",
   "execution_count": 53,
   "metadata": {},
   "outputs": [],
   "source": [
    "sider_frequency_tokenizer = tf.keras.preprocessing.text.Tokenizer()\n",
    "sider_frequency_tokenizer.fit_on_texts(sider_bpe_tokenized)\n",
    "\n",
    "sider_tokenized = sider_frequency_tokenizer.texts_to_sequences(sider_bpe_tokenized)\n",
    "\n",
    "sider_padded_tokenized = tf.keras.preprocessing.sequence.pad_sequences(sider_tokenized, maxlen=pubchem_max_bpe_tokenized_seq_size, padding='post')"
   ]
  },
  {
   "attachments": {},
   "cell_type": "markdown",
   "metadata": {},
   "source": [
    "SIDER frequency tokenizer vocabulary size:"
   ]
  },
  {
   "cell_type": "code",
   "execution_count": 54,
   "metadata": {},
   "outputs": [
    {
     "data": {
      "text/plain": [
       "824"
      ]
     },
     "execution_count": 54,
     "metadata": {},
     "output_type": "execute_result"
    }
   ],
   "source": [
    "len(sider_frequency_tokenizer.word_index)"
   ]
  },
  {
   "attachments": {},
   "cell_type": "markdown",
   "metadata": {},
   "source": [
    "Turn SIDER SMILES to word embedding:"
   ]
  },
  {
   "cell_type": "code",
   "execution_count": 55,
   "metadata": {},
   "outputs": [
    {
     "name": "stdout",
     "output_type": "stream",
     "text": [
      "45/45 [==============================] - 17s 310ms/step\n"
     ]
    }
   ],
   "source": [
    "sider_smiles_we = we_network_encoder.predict(sider_padded_tokenized)"
   ]
  },
  {
   "attachments": {},
   "cell_type": "markdown",
   "metadata": {},
   "source": [
    "Lets look at a random word embedding:"
   ]
  },
  {
   "cell_type": "code",
   "execution_count": 56,
   "metadata": {},
   "outputs": [
    {
     "data": {
      "text/plain": [
       "array([ 0.       ,  9.285371 ,  0.       ,  0.       ,  0.       ,\n",
       "        0.       , 15.252752 ,  0.       ,  0.       , 12.33494  ,\n",
       "        0.       ,  0.       ,  6.0125875,  0.       ,  0.       ,\n",
       "       13.061996 ,  0.       ,  8.769304 , 19.361286 ,  0.       ,\n",
       "       16.184898 ,  5.612869 ,  0.       ,  0.       , 11.585313 ,\n",
       "        0.       ,  0.       , 13.13268  ,  7.0775757,  6.303573 ,\n",
       "       10.610909 ,  8.067827 ,  0.       ,  0.       ,  0.       ,\n",
       "        0.       , 12.559751 ,  0.       ,  0.       ,  0.       ,\n",
       "        0.       ,  0.       , 10.827698 ,  0.       ,  0.       ,\n",
       "       15.6738615,  7.7655687,  0.       ,  0.       ,  0.       ],\n",
       "      dtype=float32)"
      ]
     },
     "execution_count": 56,
     "metadata": {},
     "output_type": "execute_result"
    }
   ],
   "source": [
    "sider_smiles_we[0]"
   ]
  },
  {
   "attachments": {},
   "cell_type": "markdown",
   "metadata": {},
   "source": [
    "Add a new column of word embedding representations to the SIDER dataset: "
   ]
  },
  {
   "cell_type": "code",
   "execution_count": 57,
   "metadata": {},
   "outputs": [],
   "source": [
    "sider_df['Word embedding'] = None\n",
    "for we, (index, row) in zip(sider_smiles_we, sider_df.iterrows()):\n",
    "    sider_df.at[index, 'Word embedding'] = we"
   ]
  },
  {
   "attachments": {},
   "cell_type": "markdown",
   "metadata": {},
   "source": [
    "### Class imbalance"
   ]
  },
  {
   "attachments": {},
   "cell_type": "markdown",
   "metadata": {},
   "source": [
    "We are dealing a with binary classification problem. Class imbalance can be a challenging issue. If the ratio of samples in the minority class is much lower than the ratio of majority class, say less than 10%, then the estimator might be biased towards the majority class.\n",
    "\n",
    "Let's visualize whether we have equal distributions of negative and positive samples for each adverse drug reaction:"
   ]
  },
  {
   "cell_type": "code",
   "execution_count": 130,
   "metadata": {},
   "outputs": [],
   "source": [
    "def calculate_class_imbalance(data):\n",
    "    class_imbalances_df = pd.DataFrame(\n",
    "        columns=[\n",
    "            'ADR',\n",
    "            'Negative count',\n",
    "            'Positive count',\n",
    "            'Count difference',\n",
    "            'Minority ratio',\n",
    "            'Majority ratio',\n",
    "            'Ratio difference'\n",
    "        ]\n",
    "    )\n",
    "\n",
    "    adr_columns, number_of_samples = data.columns[1:-1], len(data)\n",
    "    for adr in adr_columns:\n",
    "        adr_samples = data[adr]\n",
    "        \n",
    "        negatives = adr_samples[adr_samples == 0].size\n",
    "        positives = adr_samples[adr_samples == 1].size\n",
    "        \n",
    "        count_difference = abs(negatives - positives)\n",
    "        \n",
    "        ratios = [round(negatives / number_of_samples * 100), round(positives / number_of_samples * 100)]\n",
    "        minority_ratio, majority_ratio = sorted(ratios)\n",
    "        \n",
    "        ratio_difference = majority_ratio - minority_ratio\n",
    "        \n",
    "        row = [adr, negatives, positives, count_difference, minority_ratio, majority_ratio, ratio_difference]\n",
    "        class_imbalances_df = pd.concat([class_imbalances_df, pd.DataFrame([row], columns=class_imbalances_df.columns)], ignore_index=True)\n",
    "\n",
    "    def colorize_row(value):\n",
    "        light_green = '#a6d96a'\n",
    "        light_yellow = '#ffffbf'\n",
    "        light_orange = '#fdae61'\n",
    "        light_red = '#f46d43'\n",
    "        dark_red = '#d73027'\n",
    "        \n",
    "        if value < 20:\n",
    "            color = light_green\n",
    "        elif 20 <= value < 40:\n",
    "            color = light_yellow\n",
    "        elif 40 <= value < 60:\n",
    "            color = light_orange\n",
    "        elif 60 <= value < 80:\n",
    "            color = light_red\n",
    "        elif 80 <= value:\n",
    "            color = dark_red \n",
    "        \n",
    "        return f'background-color: {color}'\n",
    "\n",
    "    class_imbalances_df = class_imbalances_df.style.applymap(colorize_row, subset=['Ratio difference'])\n",
    "    \n",
    "    return class_imbalances_df"
   ]
  },
  {
   "cell_type": "code",
   "execution_count": 131,
   "metadata": {},
   "outputs": [
    {
     "data": {
      "text/html": [
       "<style type=\"text/css\">\n",
       "#T_b9e81_row0_col6, #T_b9e81_row9_col6, #T_b9e81_row23_col6 {\n",
       "  background-color: #a6d96a;\n",
       "}\n",
       "#T_b9e81_row1_col6, #T_b9e81_row5_col6, #T_b9e81_row8_col6, #T_b9e81_row10_col6, #T_b9e81_row12_col6, #T_b9e81_row14_col6, #T_b9e81_row18_col6, #T_b9e81_row19_col6, #T_b9e81_row20_col6 {\n",
       "  background-color: #fdae61;\n",
       "}\n",
       "#T_b9e81_row2_col6, #T_b9e81_row6_col6, #T_b9e81_row11_col6, #T_b9e81_row16_col6, #T_b9e81_row22_col6, #T_b9e81_row25_col6 {\n",
       "  background-color: #d73027;\n",
       "}\n",
       "#T_b9e81_row3_col6, #T_b9e81_row15_col6, #T_b9e81_row21_col6, #T_b9e81_row24_col6, #T_b9e81_row26_col6 {\n",
       "  background-color: #ffffbf;\n",
       "}\n",
       "#T_b9e81_row4_col6, #T_b9e81_row7_col6, #T_b9e81_row13_col6, #T_b9e81_row17_col6 {\n",
       "  background-color: #f46d43;\n",
       "}\n",
       "</style>\n",
       "<table id=\"T_b9e81\">\n",
       "  <thead>\n",
       "    <tr>\n",
       "      <th class=\"blank level0\" >&nbsp;</th>\n",
       "      <th id=\"T_b9e81_level0_col0\" class=\"col_heading level0 col0\" >ADR</th>\n",
       "      <th id=\"T_b9e81_level0_col1\" class=\"col_heading level0 col1\" >Negative count</th>\n",
       "      <th id=\"T_b9e81_level0_col2\" class=\"col_heading level0 col2\" >Positive count</th>\n",
       "      <th id=\"T_b9e81_level0_col3\" class=\"col_heading level0 col3\" >Count difference</th>\n",
       "      <th id=\"T_b9e81_level0_col4\" class=\"col_heading level0 col4\" >Minority ratio</th>\n",
       "      <th id=\"T_b9e81_level0_col5\" class=\"col_heading level0 col5\" >Majority ratio</th>\n",
       "      <th id=\"T_b9e81_level0_col6\" class=\"col_heading level0 col6\" >Ratio difference</th>\n",
       "    </tr>\n",
       "  </thead>\n",
       "  <tbody>\n",
       "    <tr>\n",
       "      <th id=\"T_b9e81_level0_row0\" class=\"row_heading level0 row0\" >0</th>\n",
       "      <td id=\"T_b9e81_row0_col0\" class=\"data row0 col0\" >Hepatobiliary disorders</td>\n",
       "      <td id=\"T_b9e81_row0_col1\" class=\"data row0 col1\" >684</td>\n",
       "      <td id=\"T_b9e81_row0_col2\" class=\"data row0 col2\" >743</td>\n",
       "      <td id=\"T_b9e81_row0_col3\" class=\"data row0 col3\" >59</td>\n",
       "      <td id=\"T_b9e81_row0_col4\" class=\"data row0 col4\" >48</td>\n",
       "      <td id=\"T_b9e81_row0_col5\" class=\"data row0 col5\" >52</td>\n",
       "      <td id=\"T_b9e81_row0_col6\" class=\"data row0 col6\" >4</td>\n",
       "    </tr>\n",
       "    <tr>\n",
       "      <th id=\"T_b9e81_level0_row1\" class=\"row_heading level0 row1\" >1</th>\n",
       "      <td id=\"T_b9e81_row1_col0\" class=\"data row1 col0\" >Metabolism and nutrition disorders</td>\n",
       "      <td id=\"T_b9e81_row1_col1\" class=\"data row1 col1\" >431</td>\n",
       "      <td id=\"T_b9e81_row1_col2\" class=\"data row1 col2\" >996</td>\n",
       "      <td id=\"T_b9e81_row1_col3\" class=\"data row1 col3\" >565</td>\n",
       "      <td id=\"T_b9e81_row1_col4\" class=\"data row1 col4\" >30</td>\n",
       "      <td id=\"T_b9e81_row1_col5\" class=\"data row1 col5\" >70</td>\n",
       "      <td id=\"T_b9e81_row1_col6\" class=\"data row1 col6\" >40</td>\n",
       "    </tr>\n",
       "    <tr>\n",
       "      <th id=\"T_b9e81_level0_row2\" class=\"row_heading level0 row2\" >2</th>\n",
       "      <td id=\"T_b9e81_row2_col0\" class=\"data row2 col0\" >Product issues</td>\n",
       "      <td id=\"T_b9e81_row2_col1\" class=\"data row2 col1\" >1405</td>\n",
       "      <td id=\"T_b9e81_row2_col2\" class=\"data row2 col2\" >22</td>\n",
       "      <td id=\"T_b9e81_row2_col3\" class=\"data row2 col3\" >1383</td>\n",
       "      <td id=\"T_b9e81_row2_col4\" class=\"data row2 col4\" >2</td>\n",
       "      <td id=\"T_b9e81_row2_col5\" class=\"data row2 col5\" >98</td>\n",
       "      <td id=\"T_b9e81_row2_col6\" class=\"data row2 col6\" >96</td>\n",
       "    </tr>\n",
       "    <tr>\n",
       "      <th id=\"T_b9e81_level0_row3\" class=\"row_heading level0 row3\" >3</th>\n",
       "      <td id=\"T_b9e81_row3_col0\" class=\"data row3 col0\" >Eye disorders</td>\n",
       "      <td id=\"T_b9e81_row3_col1\" class=\"data row3 col1\" >551</td>\n",
       "      <td id=\"T_b9e81_row3_col2\" class=\"data row3 col2\" >876</td>\n",
       "      <td id=\"T_b9e81_row3_col3\" class=\"data row3 col3\" >325</td>\n",
       "      <td id=\"T_b9e81_row3_col4\" class=\"data row3 col4\" >39</td>\n",
       "      <td id=\"T_b9e81_row3_col5\" class=\"data row3 col5\" >61</td>\n",
       "      <td id=\"T_b9e81_row3_col6\" class=\"data row3 col6\" >22</td>\n",
       "    </tr>\n",
       "    <tr>\n",
       "      <th id=\"T_b9e81_level0_row4\" class=\"row_heading level0 row4\" >4</th>\n",
       "      <td id=\"T_b9e81_row4_col0\" class=\"data row4 col0\" >Investigations</td>\n",
       "      <td id=\"T_b9e81_row4_col1\" class=\"data row4 col1\" >276</td>\n",
       "      <td id=\"T_b9e81_row4_col2\" class=\"data row4 col2\" >1151</td>\n",
       "      <td id=\"T_b9e81_row4_col3\" class=\"data row4 col3\" >875</td>\n",
       "      <td id=\"T_b9e81_row4_col4\" class=\"data row4 col4\" >19</td>\n",
       "      <td id=\"T_b9e81_row4_col5\" class=\"data row4 col5\" >81</td>\n",
       "      <td id=\"T_b9e81_row4_col6\" class=\"data row4 col6\" >62</td>\n",
       "    </tr>\n",
       "    <tr>\n",
       "      <th id=\"T_b9e81_level0_row5\" class=\"row_heading level0 row5\" >5</th>\n",
       "      <td id=\"T_b9e81_row5_col0\" class=\"data row5 col0\" >Musculoskeletal and connective tissue disorders</td>\n",
       "      <td id=\"T_b9e81_row5_col1\" class=\"data row5 col1\" >430</td>\n",
       "      <td id=\"T_b9e81_row5_col2\" class=\"data row5 col2\" >997</td>\n",
       "      <td id=\"T_b9e81_row5_col3\" class=\"data row5 col3\" >567</td>\n",
       "      <td id=\"T_b9e81_row5_col4\" class=\"data row5 col4\" >30</td>\n",
       "      <td id=\"T_b9e81_row5_col5\" class=\"data row5 col5\" >70</td>\n",
       "      <td id=\"T_b9e81_row5_col6\" class=\"data row5 col6\" >40</td>\n",
       "    </tr>\n",
       "    <tr>\n",
       "      <th id=\"T_b9e81_level0_row6\" class=\"row_heading level0 row6\" >6</th>\n",
       "      <td id=\"T_b9e81_row6_col0\" class=\"data row6 col0\" >Gastrointestinal disorders</td>\n",
       "      <td id=\"T_b9e81_row6_col1\" class=\"data row6 col1\" >129</td>\n",
       "      <td id=\"T_b9e81_row6_col2\" class=\"data row6 col2\" >1298</td>\n",
       "      <td id=\"T_b9e81_row6_col3\" class=\"data row6 col3\" >1169</td>\n",
       "      <td id=\"T_b9e81_row6_col4\" class=\"data row6 col4\" >9</td>\n",
       "      <td id=\"T_b9e81_row6_col5\" class=\"data row6 col5\" >91</td>\n",
       "      <td id=\"T_b9e81_row6_col6\" class=\"data row6 col6\" >82</td>\n",
       "    </tr>\n",
       "    <tr>\n",
       "      <th id=\"T_b9e81_level0_row7\" class=\"row_heading level0 row7\" >7</th>\n",
       "      <td id=\"T_b9e81_row7_col0\" class=\"data row7 col0\" >Social circumstances</td>\n",
       "      <td id=\"T_b9e81_row7_col1\" class=\"data row7 col1\" >1176</td>\n",
       "      <td id=\"T_b9e81_row7_col2\" class=\"data row7 col2\" >251</td>\n",
       "      <td id=\"T_b9e81_row7_col3\" class=\"data row7 col3\" >925</td>\n",
       "      <td id=\"T_b9e81_row7_col4\" class=\"data row7 col4\" >18</td>\n",
       "      <td id=\"T_b9e81_row7_col5\" class=\"data row7 col5\" >82</td>\n",
       "      <td id=\"T_b9e81_row7_col6\" class=\"data row7 col6\" >64</td>\n",
       "    </tr>\n",
       "    <tr>\n",
       "      <th id=\"T_b9e81_level0_row8\" class=\"row_heading level0 row8\" >8</th>\n",
       "      <td id=\"T_b9e81_row8_col0\" class=\"data row8 col0\" >Immune system disorders</td>\n",
       "      <td id=\"T_b9e81_row8_col1\" class=\"data row8 col1\" >403</td>\n",
       "      <td id=\"T_b9e81_row8_col2\" class=\"data row8 col2\" >1024</td>\n",
       "      <td id=\"T_b9e81_row8_col3\" class=\"data row8 col3\" >621</td>\n",
       "      <td id=\"T_b9e81_row8_col4\" class=\"data row8 col4\" >28</td>\n",
       "      <td id=\"T_b9e81_row8_col5\" class=\"data row8 col5\" >72</td>\n",
       "      <td id=\"T_b9e81_row8_col6\" class=\"data row8 col6\" >44</td>\n",
       "    </tr>\n",
       "    <tr>\n",
       "      <th id=\"T_b9e81_level0_row9\" class=\"row_heading level0 row9\" >9</th>\n",
       "      <td id=\"T_b9e81_row9_col0\" class=\"data row9 col0\" >Reproductive system and breast disorders</td>\n",
       "      <td id=\"T_b9e81_row9_col1\" class=\"data row9 col1\" >700</td>\n",
       "      <td id=\"T_b9e81_row9_col2\" class=\"data row9 col2\" >727</td>\n",
       "      <td id=\"T_b9e81_row9_col3\" class=\"data row9 col3\" >27</td>\n",
       "      <td id=\"T_b9e81_row9_col4\" class=\"data row9 col4\" >49</td>\n",
       "      <td id=\"T_b9e81_row9_col5\" class=\"data row9 col5\" >51</td>\n",
       "      <td id=\"T_b9e81_row9_col6\" class=\"data row9 col6\" >2</td>\n",
       "    </tr>\n",
       "    <tr>\n",
       "      <th id=\"T_b9e81_level0_row10\" class=\"row_heading level0 row10\" >10</th>\n",
       "      <td id=\"T_b9e81_row10_col0\" class=\"data row10 col0\" >Neoplasms benign, malignant and unspecified (incl cysts and polyps)</td>\n",
       "      <td id=\"T_b9e81_row10_col1\" class=\"data row10 col1\" >1051</td>\n",
       "      <td id=\"T_b9e81_row10_col2\" class=\"data row10 col2\" >376</td>\n",
       "      <td id=\"T_b9e81_row10_col3\" class=\"data row10 col3\" >675</td>\n",
       "      <td id=\"T_b9e81_row10_col4\" class=\"data row10 col4\" >26</td>\n",
       "      <td id=\"T_b9e81_row10_col5\" class=\"data row10 col5\" >74</td>\n",
       "      <td id=\"T_b9e81_row10_col6\" class=\"data row10 col6\" >48</td>\n",
       "    </tr>\n",
       "    <tr>\n",
       "      <th id=\"T_b9e81_level0_row11\" class=\"row_heading level0 row11\" >11</th>\n",
       "      <td id=\"T_b9e81_row11_col0\" class=\"data row11 col0\" >General disorders and administration site conditions</td>\n",
       "      <td id=\"T_b9e81_row11_col1\" class=\"data row11 col1\" >135</td>\n",
       "      <td id=\"T_b9e81_row11_col2\" class=\"data row11 col2\" >1292</td>\n",
       "      <td id=\"T_b9e81_row11_col3\" class=\"data row11 col3\" >1157</td>\n",
       "      <td id=\"T_b9e81_row11_col4\" class=\"data row11 col4\" >9</td>\n",
       "      <td id=\"T_b9e81_row11_col5\" class=\"data row11 col5\" >91</td>\n",
       "      <td id=\"T_b9e81_row11_col6\" class=\"data row11 col6\" >82</td>\n",
       "    </tr>\n",
       "    <tr>\n",
       "      <th id=\"T_b9e81_level0_row12\" class=\"row_heading level0 row12\" >12</th>\n",
       "      <td id=\"T_b9e81_row12_col0\" class=\"data row12 col0\" >Endocrine disorders</td>\n",
       "      <td id=\"T_b9e81_row12_col1\" class=\"data row12 col1\" >1104</td>\n",
       "      <td id=\"T_b9e81_row12_col2\" class=\"data row12 col2\" >323</td>\n",
       "      <td id=\"T_b9e81_row12_col3\" class=\"data row12 col3\" >781</td>\n",
       "      <td id=\"T_b9e81_row12_col4\" class=\"data row12 col4\" >23</td>\n",
       "      <td id=\"T_b9e81_row12_col5\" class=\"data row12 col5\" >77</td>\n",
       "      <td id=\"T_b9e81_row12_col6\" class=\"data row12 col6\" >54</td>\n",
       "    </tr>\n",
       "    <tr>\n",
       "      <th id=\"T_b9e81_level0_row13\" class=\"row_heading level0 row13\" >13</th>\n",
       "      <td id=\"T_b9e81_row13_col0\" class=\"data row13 col0\" >Surgical and medical procedures</td>\n",
       "      <td id=\"T_b9e81_row13_col1\" class=\"data row13 col1\" >1214</td>\n",
       "      <td id=\"T_b9e81_row13_col2\" class=\"data row13 col2\" >213</td>\n",
       "      <td id=\"T_b9e81_row13_col3\" class=\"data row13 col3\" >1001</td>\n",
       "      <td id=\"T_b9e81_row13_col4\" class=\"data row13 col4\" >15</td>\n",
       "      <td id=\"T_b9e81_row13_col5\" class=\"data row13 col5\" >85</td>\n",
       "      <td id=\"T_b9e81_row13_col6\" class=\"data row13 col6\" >70</td>\n",
       "    </tr>\n",
       "    <tr>\n",
       "      <th id=\"T_b9e81_level0_row14\" class=\"row_heading level0 row14\" >14</th>\n",
       "      <td id=\"T_b9e81_row14_col0\" class=\"data row14 col0\" >Vascular disorders</td>\n",
       "      <td id=\"T_b9e81_row14_col1\" class=\"data row14 col1\" >319</td>\n",
       "      <td id=\"T_b9e81_row14_col2\" class=\"data row14 col2\" >1108</td>\n",
       "      <td id=\"T_b9e81_row14_col3\" class=\"data row14 col3\" >789</td>\n",
       "      <td id=\"T_b9e81_row14_col4\" class=\"data row14 col4\" >22</td>\n",
       "      <td id=\"T_b9e81_row14_col5\" class=\"data row14 col5\" >78</td>\n",
       "      <td id=\"T_b9e81_row14_col6\" class=\"data row14 col6\" >56</td>\n",
       "    </tr>\n",
       "    <tr>\n",
       "      <th id=\"T_b9e81_level0_row15\" class=\"row_heading level0 row15\" >15</th>\n",
       "      <td id=\"T_b9e81_row15_col0\" class=\"data row15 col0\" >Blood and lymphatic system disorders</td>\n",
       "      <td id=\"T_b9e81_row15_col1\" class=\"data row15 col1\" >542</td>\n",
       "      <td id=\"T_b9e81_row15_col2\" class=\"data row15 col2\" >885</td>\n",
       "      <td id=\"T_b9e81_row15_col3\" class=\"data row15 col3\" >343</td>\n",
       "      <td id=\"T_b9e81_row15_col4\" class=\"data row15 col4\" >38</td>\n",
       "      <td id=\"T_b9e81_row15_col5\" class=\"data row15 col5\" >62</td>\n",
       "      <td id=\"T_b9e81_row15_col6\" class=\"data row15 col6\" >24</td>\n",
       "    </tr>\n",
       "    <tr>\n",
       "      <th id=\"T_b9e81_level0_row16\" class=\"row_heading level0 row16\" >16</th>\n",
       "      <td id=\"T_b9e81_row16_col0\" class=\"data row16 col0\" >Skin and subcutaneous tissue disorders</td>\n",
       "      <td id=\"T_b9e81_row16_col1\" class=\"data row16 col1\" >109</td>\n",
       "      <td id=\"T_b9e81_row16_col2\" class=\"data row16 col2\" >1318</td>\n",
       "      <td id=\"T_b9e81_row16_col3\" class=\"data row16 col3\" >1209</td>\n",
       "      <td id=\"T_b9e81_row16_col4\" class=\"data row16 col4\" >8</td>\n",
       "      <td id=\"T_b9e81_row16_col5\" class=\"data row16 col5\" >92</td>\n",
       "      <td id=\"T_b9e81_row16_col6\" class=\"data row16 col6\" >84</td>\n",
       "    </tr>\n",
       "    <tr>\n",
       "      <th id=\"T_b9e81_level0_row17\" class=\"row_heading level0 row17\" >17</th>\n",
       "      <td id=\"T_b9e81_row17_col0\" class=\"data row17 col0\" >Congenital, familial and genetic disorders</td>\n",
       "      <td id=\"T_b9e81_row17_col1\" class=\"data row17 col1\" >1174</td>\n",
       "      <td id=\"T_b9e81_row17_col2\" class=\"data row17 col2\" >253</td>\n",
       "      <td id=\"T_b9e81_row17_col3\" class=\"data row17 col3\" >921</td>\n",
       "      <td id=\"T_b9e81_row17_col4\" class=\"data row17 col4\" >18</td>\n",
       "      <td id=\"T_b9e81_row17_col5\" class=\"data row17 col5\" >82</td>\n",
       "      <td id=\"T_b9e81_row17_col6\" class=\"data row17 col6\" >64</td>\n",
       "    </tr>\n",
       "    <tr>\n",
       "      <th id=\"T_b9e81_level0_row18\" class=\"row_heading level0 row18\" >18</th>\n",
       "      <td id=\"T_b9e81_row18_col0\" class=\"data row18 col0\" >Infections and infestations</td>\n",
       "      <td id=\"T_b9e81_row18_col1\" class=\"data row18 col1\" >421</td>\n",
       "      <td id=\"T_b9e81_row18_col2\" class=\"data row18 col2\" >1006</td>\n",
       "      <td id=\"T_b9e81_row18_col3\" class=\"data row18 col3\" >585</td>\n",
       "      <td id=\"T_b9e81_row18_col4\" class=\"data row18 col4\" >30</td>\n",
       "      <td id=\"T_b9e81_row18_col5\" class=\"data row18 col5\" >70</td>\n",
       "      <td id=\"T_b9e81_row18_col6\" class=\"data row18 col6\" >40</td>\n",
       "    </tr>\n",
       "    <tr>\n",
       "      <th id=\"T_b9e81_level0_row19\" class=\"row_heading level0 row19\" >19</th>\n",
       "      <td id=\"T_b9e81_row19_col0\" class=\"data row19 col0\" >Respiratory, thoracic and mediastinal disorders</td>\n",
       "      <td id=\"T_b9e81_row19_col1\" class=\"data row19 col1\" >367</td>\n",
       "      <td id=\"T_b9e81_row19_col2\" class=\"data row19 col2\" >1060</td>\n",
       "      <td id=\"T_b9e81_row19_col3\" class=\"data row19 col3\" >693</td>\n",
       "      <td id=\"T_b9e81_row19_col4\" class=\"data row19 col4\" >26</td>\n",
       "      <td id=\"T_b9e81_row19_col5\" class=\"data row19 col5\" >74</td>\n",
       "      <td id=\"T_b9e81_row19_col6\" class=\"data row19 col6\" >48</td>\n",
       "    </tr>\n",
       "    <tr>\n",
       "      <th id=\"T_b9e81_level0_row20\" class=\"row_heading level0 row20\" >20</th>\n",
       "      <td id=\"T_b9e81_row20_col0\" class=\"data row20 col0\" >Psychiatric disorders</td>\n",
       "      <td id=\"T_b9e81_row20_col1\" class=\"data row20 col1\" >411</td>\n",
       "      <td id=\"T_b9e81_row20_col2\" class=\"data row20 col2\" >1016</td>\n",
       "      <td id=\"T_b9e81_row20_col3\" class=\"data row20 col3\" >605</td>\n",
       "      <td id=\"T_b9e81_row20_col4\" class=\"data row20 col4\" >29</td>\n",
       "      <td id=\"T_b9e81_row20_col5\" class=\"data row20 col5\" >71</td>\n",
       "      <td id=\"T_b9e81_row20_col6\" class=\"data row20 col6\" >42</td>\n",
       "    </tr>\n",
       "    <tr>\n",
       "      <th id=\"T_b9e81_level0_row21\" class=\"row_heading level0 row21\" >21</th>\n",
       "      <td id=\"T_b9e81_row21_col0\" class=\"data row21 col0\" >Renal and urinary disorders</td>\n",
       "      <td id=\"T_b9e81_row21_col1\" class=\"data row21 col1\" >516</td>\n",
       "      <td id=\"T_b9e81_row21_col2\" class=\"data row21 col2\" >911</td>\n",
       "      <td id=\"T_b9e81_row21_col3\" class=\"data row21 col3\" >395</td>\n",
       "      <td id=\"T_b9e81_row21_col4\" class=\"data row21 col4\" >36</td>\n",
       "      <td id=\"T_b9e81_row21_col5\" class=\"data row21 col5\" >64</td>\n",
       "      <td id=\"T_b9e81_row21_col6\" class=\"data row21 col6\" >28</td>\n",
       "    </tr>\n",
       "    <tr>\n",
       "      <th id=\"T_b9e81_level0_row22\" class=\"row_heading level0 row22\" >22</th>\n",
       "      <td id=\"T_b9e81_row22_col0\" class=\"data row22 col0\" >Pregnancy, puerperium and perinatal conditions</td>\n",
       "      <td id=\"T_b9e81_row22_col1\" class=\"data row22 col1\" >1302</td>\n",
       "      <td id=\"T_b9e81_row22_col2\" class=\"data row22 col2\" >125</td>\n",
       "      <td id=\"T_b9e81_row22_col3\" class=\"data row22 col3\" >1177</td>\n",
       "      <td id=\"T_b9e81_row22_col4\" class=\"data row22 col4\" >9</td>\n",
       "      <td id=\"T_b9e81_row22_col5\" class=\"data row22 col5\" >91</td>\n",
       "      <td id=\"T_b9e81_row22_col6\" class=\"data row22 col6\" >82</td>\n",
       "    </tr>\n",
       "    <tr>\n",
       "      <th id=\"T_b9e81_level0_row23\" class=\"row_heading level0 row23\" >23</th>\n",
       "      <td id=\"T_b9e81_row23_col0\" class=\"data row23 col0\" >Ear and labyrinth disorders</td>\n",
       "      <td id=\"T_b9e81_row23_col1\" class=\"data row23 col1\" >768</td>\n",
       "      <td id=\"T_b9e81_row23_col2\" class=\"data row23 col2\" >659</td>\n",
       "      <td id=\"T_b9e81_row23_col3\" class=\"data row23 col3\" >109</td>\n",
       "      <td id=\"T_b9e81_row23_col4\" class=\"data row23 col4\" >46</td>\n",
       "      <td id=\"T_b9e81_row23_col5\" class=\"data row23 col5\" >54</td>\n",
       "      <td id=\"T_b9e81_row23_col6\" class=\"data row23 col6\" >8</td>\n",
       "    </tr>\n",
       "    <tr>\n",
       "      <th id=\"T_b9e81_level0_row24\" class=\"row_heading level0 row24\" >24</th>\n",
       "      <td id=\"T_b9e81_row24_col0\" class=\"data row24 col0\" >Cardiac disorders</td>\n",
       "      <td id=\"T_b9e81_row24_col1\" class=\"data row24 col1\" >439</td>\n",
       "      <td id=\"T_b9e81_row24_col2\" class=\"data row24 col2\" >988</td>\n",
       "      <td id=\"T_b9e81_row24_col3\" class=\"data row24 col3\" >549</td>\n",
       "      <td id=\"T_b9e81_row24_col4\" class=\"data row24 col4\" >31</td>\n",
       "      <td id=\"T_b9e81_row24_col5\" class=\"data row24 col5\" >69</td>\n",
       "      <td id=\"T_b9e81_row24_col6\" class=\"data row24 col6\" >38</td>\n",
       "    </tr>\n",
       "    <tr>\n",
       "      <th id=\"T_b9e81_level0_row25\" class=\"row_heading level0 row25\" >25</th>\n",
       "      <td id=\"T_b9e81_row25_col0\" class=\"data row25 col0\" >Nervous system disorders</td>\n",
       "      <td id=\"T_b9e81_row25_col1\" class=\"data row25 col1\" >123</td>\n",
       "      <td id=\"T_b9e81_row25_col2\" class=\"data row25 col2\" >1304</td>\n",
       "      <td id=\"T_b9e81_row25_col3\" class=\"data row25 col3\" >1181</td>\n",
       "      <td id=\"T_b9e81_row25_col4\" class=\"data row25 col4\" >9</td>\n",
       "      <td id=\"T_b9e81_row25_col5\" class=\"data row25 col5\" >91</td>\n",
       "      <td id=\"T_b9e81_row25_col6\" class=\"data row25 col6\" >82</td>\n",
       "    </tr>\n",
       "    <tr>\n",
       "      <th id=\"T_b9e81_level0_row26\" class=\"row_heading level0 row26\" >26</th>\n",
       "      <td id=\"T_b9e81_row26_col0\" class=\"data row26 col0\" >Injury, poisoning and procedural complications</td>\n",
       "      <td id=\"T_b9e81_row26_col1\" class=\"data row26 col1\" >481</td>\n",
       "      <td id=\"T_b9e81_row26_col2\" class=\"data row26 col2\" >946</td>\n",
       "      <td id=\"T_b9e81_row26_col3\" class=\"data row26 col3\" >465</td>\n",
       "      <td id=\"T_b9e81_row26_col4\" class=\"data row26 col4\" >34</td>\n",
       "      <td id=\"T_b9e81_row26_col5\" class=\"data row26 col5\" >66</td>\n",
       "      <td id=\"T_b9e81_row26_col6\" class=\"data row26 col6\" >32</td>\n",
       "    </tr>\n",
       "  </tbody>\n",
       "</table>\n"
      ],
      "text/plain": [
       "<pandas.io.formats.style.Styler at 0x7f5ff12939d0>"
      ]
     },
     "execution_count": 131,
     "metadata": {},
     "output_type": "execute_result"
    }
   ],
   "source": [
    "sider_class_imbalance_df = calculate_class_imbalance(sider_df)\n",
    "\n",
    "sider_class_imbalance_df"
   ]
  },
  {
   "attachments": {},
   "cell_type": "markdown",
   "metadata": {},
   "source": [
    "Not really, let's see what we can do with that."
   ]
  },
  {
   "attachments": {},
   "cell_type": "markdown",
   "metadata": {},
   "source": [
    "#### Duplicate samples from the minority class"
   ]
  },
  {
   "attachments": {},
   "cell_type": "markdown",
   "metadata": {},
   "source": [
    "Probably the simplest approach, replicate observations of the minority class."
   ]
  },
  {
   "attachments": {},
   "cell_type": "markdown",
   "metadata": {},
   "source": [
    "Firstly, let's prepare some functions:"
   ]
  },
  {
   "cell_type": "code",
   "execution_count": 164,
   "metadata": {},
   "outputs": [],
   "source": [
    "def create_dataset(sider, adr):\n",
    "    X, y = list(sider['Word embedding'].values), list(sider[adr].values)\n",
    "    \n",
    "    # 80:20 ratio\n",
    "    X_train, X_test, y_train, y_test = train_test_split(X, y, test_size=0.2)\n",
    "    \n",
    "    return X_train, X_test, y_train, y_test"
   ]
  },
  {
   "attachments": {},
   "cell_type": "markdown",
   "metadata": {},
   "source": [
    "Upsample the minority class by duplicating its rows:"
   ]
  },
  {
   "cell_type": "code",
   "execution_count": 181,
   "metadata": {},
   "outputs": [
    {
     "name": "stdout",
     "output_type": "stream",
     "text": [
      "Skipped:  Hepatobiliary disorders\n",
      "Skipped:  Reproductive system and breast disorders\n",
      "Skipped:  Ear and labyrinth disorders\n"
     ]
    }
   ],
   "source": [
    "sider_class_imbalance_df_T = sider_class_imbalance_df.data.set_index('ADR').transpose()\n",
    "\n",
    "duplicated_datasets = []\n",
    "for adr in sider_df.columns[1:-1]:\n",
    "    ratio_difference = sider_class_imbalance_df_T[adr]['Ratio difference']\n",
    "    if ratio_difference < 10:\n",
    "        duplicated_datasets.append(create_dataset(sider_df, adr))\n",
    "\n",
    "        continue\n",
    "    \n",
    "    samples_to_duplicate = round(ratio_difference / 100 * len(sider_df))\n",
    "    minority_class = 0 if sider_class_imbalance_df_T[adr]['Negative count'] < sider_class_imbalance_df_T[adr]['Positive count'] else 1\n",
    "    \n",
    "    minority_class_samples = sider_df[sider_df[adr] == minority_class]\n",
    "    duplicated_samples = minority_class_samples.sample(n=samples_to_duplicate, replace=True, random_state=SEED)\n",
    "    \n",
    "    duplicated_sider_df = pd.concat([sider_df, duplicated_samples], ignore_index=True)\n",
    "    \n",
    "    duplicated_datasets.append(create_dataset(duplicated_sider_df, adr))"
   ]
  },
  {
   "attachments": {},
   "cell_type": "markdown",
   "metadata": {},
   "source": [
    "##### Logistic regression"
   ]
  },
  {
   "attachments": {},
   "cell_type": "markdown",
   "metadata": {},
   "source": [
    "Define logistic regression for evaluation:"
   ]
  },
  {
   "cell_type": "code",
   "execution_count": 182,
   "metadata": {},
   "outputs": [],
   "source": [
    "logistic_regression_clf = LogisticRegression(random_state=SEED)\n",
    "logistic_regression_param_grid = {\n",
    "    'penalty': ['l1', 'l2', 'elasticnet', None],\n",
    "    'solver': ['lbfgs', 'saga'],\n",
    "}\n",
    "\n",
    "logistic_regression_grid = GridSearchCV(estimator=logistic_regression_clf, param_grid=logistic_regression_param_grid)"
   ]
  },
  {
   "attachments": {},
   "cell_type": "markdown",
   "metadata": {},
   "source": [
    "Run logistic evaluation, make predictions:"
   ]
  },
  {
   "cell_type": "code",
   "execution_count": 183,
   "metadata": {},
   "outputs": [],
   "source": [
    "duplicated_logistic_regressions = pd.DataFrame(columns=['ADR', 'Accuracy score', 'F1 score'])\n",
    "for i, adr_dataset in enumerate(duplicated_datasets):\n",
    "    X_train, X_test, y_train, y_test = adr_dataset\n",
    "    \n",
    "    logistic_regression_grid.fit(X_train, y_train)\n",
    "    \n",
    "    y_pred = logistic_regression_grid.best_estimator_.predict(X_test)\n",
    "\n",
    "    accuracy = round(sklearn.metrics.accuracy_score(y_test, y_pred) * 100)\n",
    "    f1_score = round(sklearn.metrics.f1_score(y_test, y_pred) * 100)\n",
    "    \n",
    "    row = [sider_df.columns[i + 1], f'{accuracy} %',  f'{f1_score} %']\n",
    "    duplicated_logistic_regressions = pd.concat([duplicated_logistic_regressions, pd.DataFrame([row], columns=duplicated_logistic_regressions.columns)], ignore_index=True)"
   ]
  },
  {
   "cell_type": "code",
   "execution_count": 184,
   "metadata": {},
   "outputs": [
    {
     "data": {
      "text/html": [
       "<div>\n",
       "<style scoped>\n",
       "    .dataframe tbody tr th:only-of-type {\n",
       "        vertical-align: middle;\n",
       "    }\n",
       "\n",
       "    .dataframe tbody tr th {\n",
       "        vertical-align: top;\n",
       "    }\n",
       "\n",
       "    .dataframe thead th {\n",
       "        text-align: right;\n",
       "    }\n",
       "</style>\n",
       "<table border=\"1\" class=\"dataframe\">\n",
       "  <thead>\n",
       "    <tr style=\"text-align: right;\">\n",
       "      <th></th>\n",
       "      <th>ADR</th>\n",
       "      <th>Accuracy score</th>\n",
       "      <th>F1 score</th>\n",
       "    </tr>\n",
       "  </thead>\n",
       "  <tbody>\n",
       "    <tr>\n",
       "      <th>0</th>\n",
       "      <td>Hepatobiliary disorders</td>\n",
       "      <td>57 %</td>\n",
       "      <td>66 %</td>\n",
       "    </tr>\n",
       "    <tr>\n",
       "      <th>1</th>\n",
       "      <td>Metabolism and nutrition disorders</td>\n",
       "      <td>55 %</td>\n",
       "      <td>55 %</td>\n",
       "    </tr>\n",
       "    <tr>\n",
       "      <th>2</th>\n",
       "      <td>Product issues</td>\n",
       "      <td>67 %</td>\n",
       "      <td>65 %</td>\n",
       "    </tr>\n",
       "    <tr>\n",
       "      <th>3</th>\n",
       "      <td>Eye disorders</td>\n",
       "      <td>51 %</td>\n",
       "      <td>52 %</td>\n",
       "    </tr>\n",
       "    <tr>\n",
       "      <th>4</th>\n",
       "      <td>Investigations</td>\n",
       "      <td>53 %</td>\n",
       "      <td>51 %</td>\n",
       "    </tr>\n",
       "    <tr>\n",
       "      <th>5</th>\n",
       "      <td>Musculoskeletal and connective tissue disorders</td>\n",
       "      <td>56 %</td>\n",
       "      <td>57 %</td>\n",
       "    </tr>\n",
       "    <tr>\n",
       "      <th>6</th>\n",
       "      <td>Gastrointestinal disorders</td>\n",
       "      <td>60 %</td>\n",
       "      <td>57 %</td>\n",
       "    </tr>\n",
       "    <tr>\n",
       "      <th>7</th>\n",
       "      <td>Social circumstances</td>\n",
       "      <td>59 %</td>\n",
       "      <td>62 %</td>\n",
       "    </tr>\n",
       "    <tr>\n",
       "      <th>8</th>\n",
       "      <td>Immune system disorders</td>\n",
       "      <td>56 %</td>\n",
       "      <td>54 %</td>\n",
       "    </tr>\n",
       "    <tr>\n",
       "      <th>9</th>\n",
       "      <td>Reproductive system and breast disorders</td>\n",
       "      <td>59 %</td>\n",
       "      <td>60 %</td>\n",
       "    </tr>\n",
       "    <tr>\n",
       "      <th>10</th>\n",
       "      <td>Neoplasms benign, malignant and unspecified (i...</td>\n",
       "      <td>56 %</td>\n",
       "      <td>56 %</td>\n",
       "    </tr>\n",
       "    <tr>\n",
       "      <th>11</th>\n",
       "      <td>General disorders and administration site cond...</td>\n",
       "      <td>57 %</td>\n",
       "      <td>61 %</td>\n",
       "    </tr>\n",
       "    <tr>\n",
       "      <th>12</th>\n",
       "      <td>Endocrine disorders</td>\n",
       "      <td>60 %</td>\n",
       "      <td>62 %</td>\n",
       "    </tr>\n",
       "    <tr>\n",
       "      <th>13</th>\n",
       "      <td>Surgical and medical procedures</td>\n",
       "      <td>57 %</td>\n",
       "      <td>60 %</td>\n",
       "    </tr>\n",
       "    <tr>\n",
       "      <th>14</th>\n",
       "      <td>Vascular disorders</td>\n",
       "      <td>58 %</td>\n",
       "      <td>60 %</td>\n",
       "    </tr>\n",
       "    <tr>\n",
       "      <th>15</th>\n",
       "      <td>Blood and lymphatic system disorders</td>\n",
       "      <td>56 %</td>\n",
       "      <td>60 %</td>\n",
       "    </tr>\n",
       "    <tr>\n",
       "      <th>16</th>\n",
       "      <td>Skin and subcutaneous tissue disorders</td>\n",
       "      <td>67 %</td>\n",
       "      <td>68 %</td>\n",
       "    </tr>\n",
       "    <tr>\n",
       "      <th>17</th>\n",
       "      <td>Congenital, familial and genetic disorders</td>\n",
       "      <td>51 %</td>\n",
       "      <td>44 %</td>\n",
       "    </tr>\n",
       "    <tr>\n",
       "      <th>18</th>\n",
       "      <td>Infections and infestations</td>\n",
       "      <td>56 %</td>\n",
       "      <td>55 %</td>\n",
       "    </tr>\n",
       "    <tr>\n",
       "      <th>19</th>\n",
       "      <td>Respiratory, thoracic and mediastinal disorders</td>\n",
       "      <td>52 %</td>\n",
       "      <td>54 %</td>\n",
       "    </tr>\n",
       "    <tr>\n",
       "      <th>20</th>\n",
       "      <td>Psychiatric disorders</td>\n",
       "      <td>58 %</td>\n",
       "      <td>57 %</td>\n",
       "    </tr>\n",
       "    <tr>\n",
       "      <th>21</th>\n",
       "      <td>Renal and urinary disorders</td>\n",
       "      <td>52 %</td>\n",
       "      <td>52 %</td>\n",
       "    </tr>\n",
       "    <tr>\n",
       "      <th>22</th>\n",
       "      <td>Pregnancy, puerperium and perinatal conditions</td>\n",
       "      <td>48 %</td>\n",
       "      <td>51 %</td>\n",
       "    </tr>\n",
       "    <tr>\n",
       "      <th>23</th>\n",
       "      <td>Ear and labyrinth disorders</td>\n",
       "      <td>52 %</td>\n",
       "      <td>38 %</td>\n",
       "    </tr>\n",
       "    <tr>\n",
       "      <th>24</th>\n",
       "      <td>Cardiac disorders</td>\n",
       "      <td>54 %</td>\n",
       "      <td>59 %</td>\n",
       "    </tr>\n",
       "    <tr>\n",
       "      <th>25</th>\n",
       "      <td>Nervous system disorders</td>\n",
       "      <td>63 %</td>\n",
       "      <td>64 %</td>\n",
       "    </tr>\n",
       "    <tr>\n",
       "      <th>26</th>\n",
       "      <td>Injury, poisoning and procedural complications</td>\n",
       "      <td>50 %</td>\n",
       "      <td>56 %</td>\n",
       "    </tr>\n",
       "  </tbody>\n",
       "</table>\n",
       "</div>"
      ],
      "text/plain": [
       "                                                  ADR Accuracy score F1 score\n",
       "0                             Hepatobiliary disorders           57 %     66 %\n",
       "1                  Metabolism and nutrition disorders           55 %     55 %\n",
       "2                                      Product issues           67 %     65 %\n",
       "3                                       Eye disorders           51 %     52 %\n",
       "4                                      Investigations           53 %     51 %\n",
       "5     Musculoskeletal and connective tissue disorders           56 %     57 %\n",
       "6                          Gastrointestinal disorders           60 %     57 %\n",
       "7                                Social circumstances           59 %     62 %\n",
       "8                             Immune system disorders           56 %     54 %\n",
       "9            Reproductive system and breast disorders           59 %     60 %\n",
       "10  Neoplasms benign, malignant and unspecified (i...           56 %     56 %\n",
       "11  General disorders and administration site cond...           57 %     61 %\n",
       "12                                Endocrine disorders           60 %     62 %\n",
       "13                    Surgical and medical procedures           57 %     60 %\n",
       "14                                 Vascular disorders           58 %     60 %\n",
       "15               Blood and lymphatic system disorders           56 %     60 %\n",
       "16             Skin and subcutaneous tissue disorders           67 %     68 %\n",
       "17         Congenital, familial and genetic disorders           51 %     44 %\n",
       "18                        Infections and infestations           56 %     55 %\n",
       "19    Respiratory, thoracic and mediastinal disorders           52 %     54 %\n",
       "20                              Psychiatric disorders           58 %     57 %\n",
       "21                        Renal and urinary disorders           52 %     52 %\n",
       "22     Pregnancy, puerperium and perinatal conditions           48 %     51 %\n",
       "23                        Ear and labyrinth disorders           52 %     38 %\n",
       "24                                  Cardiac disorders           54 %     59 %\n",
       "25                           Nervous system disorders           63 %     64 %\n",
       "26     Injury, poisoning and procedural complications           50 %     56 %"
      ]
     },
     "execution_count": 184,
     "metadata": {},
     "output_type": "execute_result"
    }
   ],
   "source": [
    "duplicated_logistic_regressions"
   ]
  },
  {
   "attachments": {},
   "cell_type": "markdown",
   "metadata": {},
   "source": [
    "##### Decision trees"
   ]
  },
  {
   "cell_type": "code",
   "execution_count": 169,
   "metadata": {},
   "outputs": [],
   "source": [
    "decision_tree_clf = DecisionTreeClassifier(random_state=SEED)\n",
    "decision_tree_param_grid = {\n",
    "    'criterion': ['gini', 'entropy', 'log_loss'],\n",
    "    'max_depth': np.arange(start=3, stop=10, step=1),\n",
    "    'max_features': np.arange(start=10, stop=50, step=5),\n",
    "}\n",
    "\n",
    "decision_tree_grid = GridSearchCV(estimator=decision_tree_clf, param_grid=decision_tree_param_grid)"
   ]
  },
  {
   "cell_type": "code",
   "execution_count": 170,
   "metadata": {},
   "outputs": [],
   "source": [
    "duplicated_decision_trees = pd.DataFrame(columns=['ADR', 'Accuracy score', 'F1 score'])\n",
    "for i, adr_dataset in enumerate(duplicated_datasets):\n",
    "    X_train, X_test, y_train, y_test = adr_dataset\n",
    "    \n",
    "    decision_tree_grid.fit(X_train, y_train)\n",
    "    \n",
    "    y_pred = decision_tree_grid.best_estimator_.predict(X_test)\n",
    "\n",
    "    accuracy = round(sklearn.metrics.accuracy_score(y_test, y_pred) * 100)\n",
    "    f1_score = round(sklearn.metrics.f1_score(y_test, y_pred) * 100)\n",
    "    \n",
    "    row = [sider_df.columns[i + 1], f'{accuracy} %',  f'{f1_score} %']\n",
    "    duplicated_decision_trees = pd.concat([duplicated_decision_trees, pd.DataFrame([row], columns=duplicated_decision_trees.columns)], ignore_index=True)"
   ]
  },
  {
   "cell_type": "code",
   "execution_count": 171,
   "metadata": {},
   "outputs": [
    {
     "data": {
      "text/html": [
       "<div>\n",
       "<style scoped>\n",
       "    .dataframe tbody tr th:only-of-type {\n",
       "        vertical-align: middle;\n",
       "    }\n",
       "\n",
       "    .dataframe tbody tr th {\n",
       "        vertical-align: top;\n",
       "    }\n",
       "\n",
       "    .dataframe thead th {\n",
       "        text-align: right;\n",
       "    }\n",
       "</style>\n",
       "<table border=\"1\" class=\"dataframe\">\n",
       "  <thead>\n",
       "    <tr style=\"text-align: right;\">\n",
       "      <th></th>\n",
       "      <th>ADR</th>\n",
       "      <th>Accuracy score</th>\n",
       "      <th>F1 score</th>\n",
       "    </tr>\n",
       "  </thead>\n",
       "  <tbody>\n",
       "    <tr>\n",
       "      <th>0</th>\n",
       "      <td>Hepatobiliary disorders</td>\n",
       "      <td>64 %</td>\n",
       "      <td>58 %</td>\n",
       "    </tr>\n",
       "    <tr>\n",
       "      <th>1</th>\n",
       "      <td>Metabolism and nutrition disorders</td>\n",
       "      <td>98 %</td>\n",
       "      <td>98 %</td>\n",
       "    </tr>\n",
       "    <tr>\n",
       "      <th>2</th>\n",
       "      <td>Product issues</td>\n",
       "      <td>59 %</td>\n",
       "      <td>53 %</td>\n",
       "    </tr>\n",
       "    <tr>\n",
       "      <th>3</th>\n",
       "      <td>Eye disorders</td>\n",
       "      <td>75 %</td>\n",
       "      <td>75 %</td>\n",
       "    </tr>\n",
       "    <tr>\n",
       "      <th>4</th>\n",
       "      <td>Investigations</td>\n",
       "      <td>62 %</td>\n",
       "      <td>62 %</td>\n",
       "    </tr>\n",
       "    <tr>\n",
       "      <th>5</th>\n",
       "      <td>Musculoskeletal and connective tissue disorders</td>\n",
       "      <td>78 %</td>\n",
       "      <td>78 %</td>\n",
       "    </tr>\n",
       "    <tr>\n",
       "      <th>6</th>\n",
       "      <td>Gastrointestinal disorders</td>\n",
       "      <td>73 %</td>\n",
       "      <td>77 %</td>\n",
       "    </tr>\n",
       "    <tr>\n",
       "      <th>7</th>\n",
       "      <td>Social circumstances</td>\n",
       "      <td>64 %</td>\n",
       "      <td>70 %</td>\n",
       "    </tr>\n",
       "    <tr>\n",
       "      <th>8</th>\n",
       "      <td>Immune system disorders</td>\n",
       "      <td>68 %</td>\n",
       "      <td>75 %</td>\n",
       "    </tr>\n",
       "    <tr>\n",
       "      <th>9</th>\n",
       "      <td>Reproductive system and breast disorders</td>\n",
       "      <td>87 %</td>\n",
       "      <td>85 %</td>\n",
       "    </tr>\n",
       "    <tr>\n",
       "      <th>10</th>\n",
       "      <td>Neoplasms benign, malignant and unspecified (i...</td>\n",
       "      <td>70 %</td>\n",
       "      <td>72 %</td>\n",
       "    </tr>\n",
       "    <tr>\n",
       "      <th>11</th>\n",
       "      <td>General disorders and administration site cond...</td>\n",
       "      <td>70 %</td>\n",
       "      <td>72 %</td>\n",
       "    </tr>\n",
       "    <tr>\n",
       "      <th>12</th>\n",
       "      <td>Endocrine disorders</td>\n",
       "      <td>68 %</td>\n",
       "      <td>73 %</td>\n",
       "    </tr>\n",
       "    <tr>\n",
       "      <th>13</th>\n",
       "      <td>Surgical and medical procedures</td>\n",
       "      <td>56 %</td>\n",
       "      <td>67 %</td>\n",
       "    </tr>\n",
       "    <tr>\n",
       "      <th>14</th>\n",
       "      <td>Vascular disorders</td>\n",
       "      <td>87 %</td>\n",
       "      <td>86 %</td>\n",
       "    </tr>\n",
       "    <tr>\n",
       "      <th>15</th>\n",
       "      <td>Blood and lymphatic system disorders</td>\n",
       "      <td>64 %</td>\n",
       "      <td>61 %</td>\n",
       "    </tr>\n",
       "    <tr>\n",
       "      <th>16</th>\n",
       "      <td>Skin and subcutaneous tissue disorders</td>\n",
       "      <td>70 %</td>\n",
       "      <td>73 %</td>\n",
       "    </tr>\n",
       "    <tr>\n",
       "      <th>17</th>\n",
       "      <td>Congenital, familial and genetic disorders</td>\n",
       "      <td>71 %</td>\n",
       "      <td>67 %</td>\n",
       "    </tr>\n",
       "    <tr>\n",
       "      <th>18</th>\n",
       "      <td>Infections and infestations</td>\n",
       "      <td>62 %</td>\n",
       "      <td>64 %</td>\n",
       "    </tr>\n",
       "    <tr>\n",
       "      <th>19</th>\n",
       "      <td>Respiratory, thoracic and mediastinal disorders</td>\n",
       "      <td>63 %</td>\n",
       "      <td>66 %</td>\n",
       "    </tr>\n",
       "    <tr>\n",
       "      <th>20</th>\n",
       "      <td>Psychiatric disorders</td>\n",
       "      <td>86 %</td>\n",
       "      <td>87 %</td>\n",
       "    </tr>\n",
       "    <tr>\n",
       "      <th>21</th>\n",
       "      <td>Renal and urinary disorders</td>\n",
       "      <td>66 %</td>\n",
       "      <td>61 %</td>\n",
       "    </tr>\n",
       "    <tr>\n",
       "      <th>22</th>\n",
       "      <td>Pregnancy, puerperium and perinatal conditions</td>\n",
       "      <td>81 %</td>\n",
       "      <td>82 %</td>\n",
       "    </tr>\n",
       "    <tr>\n",
       "      <th>23</th>\n",
       "      <td>Ear and labyrinth disorders</td>\n",
       "      <td>58 %</td>\n",
       "      <td>57 %</td>\n",
       "    </tr>\n",
       "  </tbody>\n",
       "</table>\n",
       "</div>"
      ],
      "text/plain": [
       "                                                  ADR Accuracy score F1 score\n",
       "0                             Hepatobiliary disorders           64 %     58 %\n",
       "1                  Metabolism and nutrition disorders           98 %     98 %\n",
       "2                                      Product issues           59 %     53 %\n",
       "3                                       Eye disorders           75 %     75 %\n",
       "4                                      Investigations           62 %     62 %\n",
       "5     Musculoskeletal and connective tissue disorders           78 %     78 %\n",
       "6                          Gastrointestinal disorders           73 %     77 %\n",
       "7                                Social circumstances           64 %     70 %\n",
       "8                             Immune system disorders           68 %     75 %\n",
       "9            Reproductive system and breast disorders           87 %     85 %\n",
       "10  Neoplasms benign, malignant and unspecified (i...           70 %     72 %\n",
       "11  General disorders and administration site cond...           70 %     72 %\n",
       "12                                Endocrine disorders           68 %     73 %\n",
       "13                    Surgical and medical procedures           56 %     67 %\n",
       "14                                 Vascular disorders           87 %     86 %\n",
       "15               Blood and lymphatic system disorders           64 %     61 %\n",
       "16             Skin and subcutaneous tissue disorders           70 %     73 %\n",
       "17         Congenital, familial and genetic disorders           71 %     67 %\n",
       "18                        Infections and infestations           62 %     64 %\n",
       "19    Respiratory, thoracic and mediastinal disorders           63 %     66 %\n",
       "20                              Psychiatric disorders           86 %     87 %\n",
       "21                        Renal and urinary disorders           66 %     61 %\n",
       "22     Pregnancy, puerperium and perinatal conditions           81 %     82 %\n",
       "23                        Ear and labyrinth disorders           58 %     57 %"
      ]
     },
     "execution_count": 171,
     "metadata": {},
     "output_type": "execute_result"
    }
   ],
   "source": [
    "duplicated_decision_trees"
   ]
  },
  {
   "cell_type": "code",
   "execution_count": 172,
   "metadata": {},
   "outputs": [],
   "source": [
    "import warnings\n",
    "from sklearn.ensemble import AdaBoostClassifier\n",
    "from sklearn.exceptions import DataConversionWarning\n",
    "warnings.filterwarnings(action='ignore', category=DataConversionWarning)"
   ]
  },
  {
   "attachments": {},
   "cell_type": "markdown",
   "metadata": {},
   "source": [
    "##### AdaBoost"
   ]
  },
  {
   "cell_type": "code",
   "execution_count": 178,
   "metadata": {},
   "outputs": [],
   "source": [
    "ada_boost_clf = AdaBoostClassifier(estimator=DecisionTreeClassifier(criterion='entropy', random_state=SEED), random_state=SEED)\n",
    "ada_boost_param_grid = {\n",
    "    'n_estimators': [50, 100]\n",
    "}\n",
    "\n",
    "ada_boost_grid = GridSearchCV(estimator=ada_boost_clf, param_grid=ada_boost_param_grid)"
   ]
  },
  {
   "cell_type": "code",
   "execution_count": 179,
   "metadata": {},
   "outputs": [],
   "source": [
    "duplicated_ada_boost = pd.DataFrame(columns=['ADR', 'Accuracy score', 'F1 score'])\n",
    "for i, adr_dataset in enumerate(duplicated_datasets):\n",
    "    X_train, X_test, y_train, y_test = adr_dataset\n",
    "    \n",
    "    ada_boost_grid.fit(X_train, y_train)\n",
    "    \n",
    "    y_pred = ada_boost_grid.best_estimator_.predict(X_test)\n",
    "\n",
    "    accuracy = round(sklearn.metrics.accuracy_score(y_test, y_pred) * 100)\n",
    "    f1_score = round(sklearn.metrics.f1_score(y_test, y_pred) * 100)\n",
    "    \n",
    "    row = [sider_df.columns[i + 1], f'{accuracy} %',  f'{f1_score} %']\n",
    "    duplicated_ada_boost = pd.concat([duplicated_ada_boost, pd.DataFrame([row], columns=duplicated_ada_boost.columns)], ignore_index=True)"
   ]
  },
  {
   "cell_type": "code",
   "execution_count": 180,
   "metadata": {},
   "outputs": [
    {
     "data": {
      "text/html": [
       "<div>\n",
       "<style scoped>\n",
       "    .dataframe tbody tr th:only-of-type {\n",
       "        vertical-align: middle;\n",
       "    }\n",
       "\n",
       "    .dataframe tbody tr th {\n",
       "        vertical-align: top;\n",
       "    }\n",
       "\n",
       "    .dataframe thead th {\n",
       "        text-align: right;\n",
       "    }\n",
       "</style>\n",
       "<table border=\"1\" class=\"dataframe\">\n",
       "  <thead>\n",
       "    <tr style=\"text-align: right;\">\n",
       "      <th></th>\n",
       "      <th>ADR</th>\n",
       "      <th>Accuracy score</th>\n",
       "      <th>F1 score</th>\n",
       "    </tr>\n",
       "  </thead>\n",
       "  <tbody>\n",
       "    <tr>\n",
       "      <th>0</th>\n",
       "      <td>Hepatobiliary disorders</td>\n",
       "      <td>76 %</td>\n",
       "      <td>71 %</td>\n",
       "    </tr>\n",
       "    <tr>\n",
       "      <th>1</th>\n",
       "      <td>Metabolism and nutrition disorders</td>\n",
       "      <td>100 %</td>\n",
       "      <td>100 %</td>\n",
       "    </tr>\n",
       "    <tr>\n",
       "      <th>2</th>\n",
       "      <td>Product issues</td>\n",
       "      <td>66 %</td>\n",
       "      <td>64 %</td>\n",
       "    </tr>\n",
       "    <tr>\n",
       "      <th>3</th>\n",
       "      <td>Eye disorders</td>\n",
       "      <td>85 %</td>\n",
       "      <td>84 %</td>\n",
       "    </tr>\n",
       "    <tr>\n",
       "      <th>4</th>\n",
       "      <td>Investigations</td>\n",
       "      <td>77 %</td>\n",
       "      <td>73 %</td>\n",
       "    </tr>\n",
       "    <tr>\n",
       "      <th>5</th>\n",
       "      <td>Musculoskeletal and connective tissue disorders</td>\n",
       "      <td>95 %</td>\n",
       "      <td>95 %</td>\n",
       "    </tr>\n",
       "    <tr>\n",
       "      <th>6</th>\n",
       "      <td>Gastrointestinal disorders</td>\n",
       "      <td>88 %</td>\n",
       "      <td>90 %</td>\n",
       "    </tr>\n",
       "    <tr>\n",
       "      <th>7</th>\n",
       "      <td>Social circumstances</td>\n",
       "      <td>80 %</td>\n",
       "      <td>78 %</td>\n",
       "    </tr>\n",
       "    <tr>\n",
       "      <th>8</th>\n",
       "      <td>Immune system disorders</td>\n",
       "      <td>83 %</td>\n",
       "      <td>85 %</td>\n",
       "    </tr>\n",
       "    <tr>\n",
       "      <th>9</th>\n",
       "      <td>Reproductive system and breast disorders</td>\n",
       "      <td>94 %</td>\n",
       "      <td>93 %</td>\n",
       "    </tr>\n",
       "    <tr>\n",
       "      <th>10</th>\n",
       "      <td>Neoplasms benign, malignant and unspecified (i...</td>\n",
       "      <td>83 %</td>\n",
       "      <td>85 %</td>\n",
       "    </tr>\n",
       "    <tr>\n",
       "      <th>11</th>\n",
       "      <td>General disorders and administration site cond...</td>\n",
       "      <td>90 %</td>\n",
       "      <td>91 %</td>\n",
       "    </tr>\n",
       "    <tr>\n",
       "      <th>12</th>\n",
       "      <td>Endocrine disorders</td>\n",
       "      <td>81 %</td>\n",
       "      <td>80 %</td>\n",
       "    </tr>\n",
       "    <tr>\n",
       "      <th>13</th>\n",
       "      <td>Surgical and medical procedures</td>\n",
       "      <td>69 %</td>\n",
       "      <td>68 %</td>\n",
       "    </tr>\n",
       "    <tr>\n",
       "      <th>14</th>\n",
       "      <td>Vascular disorders</td>\n",
       "      <td>95 %</td>\n",
       "      <td>95 %</td>\n",
       "    </tr>\n",
       "    <tr>\n",
       "      <th>15</th>\n",
       "      <td>Blood and lymphatic system disorders</td>\n",
       "      <td>88 %</td>\n",
       "      <td>90 %</td>\n",
       "    </tr>\n",
       "    <tr>\n",
       "      <th>16</th>\n",
       "      <td>Skin and subcutaneous tissue disorders</td>\n",
       "      <td>77 %</td>\n",
       "      <td>75 %</td>\n",
       "    </tr>\n",
       "    <tr>\n",
       "      <th>17</th>\n",
       "      <td>Congenital, familial and genetic disorders</td>\n",
       "      <td>83 %</td>\n",
       "      <td>82 %</td>\n",
       "    </tr>\n",
       "    <tr>\n",
       "      <th>18</th>\n",
       "      <td>Infections and infestations</td>\n",
       "      <td>75 %</td>\n",
       "      <td>73 %</td>\n",
       "    </tr>\n",
       "    <tr>\n",
       "      <th>19</th>\n",
       "      <td>Respiratory, thoracic and mediastinal disorders</td>\n",
       "      <td>72 %</td>\n",
       "      <td>69 %</td>\n",
       "    </tr>\n",
       "    <tr>\n",
       "      <th>20</th>\n",
       "      <td>Psychiatric disorders</td>\n",
       "      <td>93 %</td>\n",
       "      <td>93 %</td>\n",
       "    </tr>\n",
       "    <tr>\n",
       "      <th>21</th>\n",
       "      <td>Renal and urinary disorders</td>\n",
       "      <td>78 %</td>\n",
       "      <td>75 %</td>\n",
       "    </tr>\n",
       "    <tr>\n",
       "      <th>22</th>\n",
       "      <td>Pregnancy, puerperium and perinatal conditions</td>\n",
       "      <td>94 %</td>\n",
       "      <td>94 %</td>\n",
       "    </tr>\n",
       "    <tr>\n",
       "      <th>23</th>\n",
       "      <td>Ear and labyrinth disorders</td>\n",
       "      <td>72 %</td>\n",
       "      <td>68 %</td>\n",
       "    </tr>\n",
       "  </tbody>\n",
       "</table>\n",
       "</div>"
      ],
      "text/plain": [
       "                                                  ADR Accuracy score F1 score\n",
       "0                             Hepatobiliary disorders           76 %     71 %\n",
       "1                  Metabolism and nutrition disorders          100 %    100 %\n",
       "2                                      Product issues           66 %     64 %\n",
       "3                                       Eye disorders           85 %     84 %\n",
       "4                                      Investigations           77 %     73 %\n",
       "5     Musculoskeletal and connective tissue disorders           95 %     95 %\n",
       "6                          Gastrointestinal disorders           88 %     90 %\n",
       "7                                Social circumstances           80 %     78 %\n",
       "8                             Immune system disorders           83 %     85 %\n",
       "9            Reproductive system and breast disorders           94 %     93 %\n",
       "10  Neoplasms benign, malignant and unspecified (i...           83 %     85 %\n",
       "11  General disorders and administration site cond...           90 %     91 %\n",
       "12                                Endocrine disorders           81 %     80 %\n",
       "13                    Surgical and medical procedures           69 %     68 %\n",
       "14                                 Vascular disorders           95 %     95 %\n",
       "15               Blood and lymphatic system disorders           88 %     90 %\n",
       "16             Skin and subcutaneous tissue disorders           77 %     75 %\n",
       "17         Congenital, familial and genetic disorders           83 %     82 %\n",
       "18                        Infections and infestations           75 %     73 %\n",
       "19    Respiratory, thoracic and mediastinal disorders           72 %     69 %\n",
       "20                              Psychiatric disorders           93 %     93 %\n",
       "21                        Renal and urinary disorders           78 %     75 %\n",
       "22     Pregnancy, puerperium and perinatal conditions           94 %     94 %\n",
       "23                        Ear and labyrinth disorders           72 %     68 %"
      ]
     },
     "execution_count": 180,
     "metadata": {},
     "output_type": "execute_result"
    }
   ],
   "source": [
    "duplicated_ada_boost"
   ]
  }
 ],
 "metadata": {
  "kernelspec": {
   "display_name": "ml_bio",
   "language": "python",
   "name": "python3"
  },
  "language_info": {
   "codemirror_mode": {
    "name": "ipython",
    "version": 3
   },
   "file_extension": ".py",
   "mimetype": "text/x-python",
   "name": "python",
   "nbconvert_exporter": "python",
   "pygments_lexer": "ipython3",
   "version": "3.10.6"
  },
  "orig_nbformat": 4
 },
 "nbformat": 4,
 "nbformat_minor": 2
}
